{
 "cells": [
  {
   "cell_type": "code",
   "execution_count": 1,
   "id": "97368808",
   "metadata": {},
   "outputs": [],
   "source": [
    "import numpy as np\n",
    "import pandas as pd\n",
    "import matplotlib.pyplot as plt\n",
    "import seaborn as sns\n",
    "from scipy import stats\n",
    "from math import sqrt"
   ]
  },
  {
   "cell_type": "markdown",
   "id": "3009b2d4",
   "metadata": {},
   "source": [
    "## Data Collection And Analysis"
   ]
  },
  {
   "cell_type": "code",
   "execution_count": 2,
   "id": "c1319704",
   "metadata": {},
   "outputs": [
    {
     "data": {
      "text/html": [
       "<div>\n",
       "<style scoped>\n",
       "    .dataframe tbody tr th:only-of-type {\n",
       "        vertical-align: middle;\n",
       "    }\n",
       "\n",
       "    .dataframe tbody tr th {\n",
       "        vertical-align: top;\n",
       "    }\n",
       "\n",
       "    .dataframe thead th {\n",
       "        text-align: right;\n",
       "    }\n",
       "</style>\n",
       "<table border=\"1\" class=\"dataframe\">\n",
       "  <thead>\n",
       "    <tr style=\"text-align: right;\">\n",
       "      <th></th>\n",
       "      <th>age</th>\n",
       "      <th>sex</th>\n",
       "      <th>bmi</th>\n",
       "      <th>children</th>\n",
       "      <th>smoker</th>\n",
       "      <th>region</th>\n",
       "      <th>charges</th>\n",
       "    </tr>\n",
       "  </thead>\n",
       "  <tbody>\n",
       "    <tr>\n",
       "      <th>0</th>\n",
       "      <td>19</td>\n",
       "      <td>female</td>\n",
       "      <td>27.900</td>\n",
       "      <td>0</td>\n",
       "      <td>yes</td>\n",
       "      <td>southwest</td>\n",
       "      <td>16884.92400</td>\n",
       "    </tr>\n",
       "    <tr>\n",
       "      <th>1</th>\n",
       "      <td>18</td>\n",
       "      <td>male</td>\n",
       "      <td>33.770</td>\n",
       "      <td>1</td>\n",
       "      <td>no</td>\n",
       "      <td>southeast</td>\n",
       "      <td>1725.55230</td>\n",
       "    </tr>\n",
       "    <tr>\n",
       "      <th>2</th>\n",
       "      <td>28</td>\n",
       "      <td>male</td>\n",
       "      <td>33.000</td>\n",
       "      <td>3</td>\n",
       "      <td>no</td>\n",
       "      <td>southeast</td>\n",
       "      <td>4449.46200</td>\n",
       "    </tr>\n",
       "    <tr>\n",
       "      <th>3</th>\n",
       "      <td>33</td>\n",
       "      <td>male</td>\n",
       "      <td>22.705</td>\n",
       "      <td>0</td>\n",
       "      <td>no</td>\n",
       "      <td>northwest</td>\n",
       "      <td>21984.47061</td>\n",
       "    </tr>\n",
       "    <tr>\n",
       "      <th>4</th>\n",
       "      <td>32</td>\n",
       "      <td>male</td>\n",
       "      <td>28.880</td>\n",
       "      <td>0</td>\n",
       "      <td>no</td>\n",
       "      <td>northwest</td>\n",
       "      <td>3866.85520</td>\n",
       "    </tr>\n",
       "  </tbody>\n",
       "</table>\n",
       "</div>"
      ],
      "text/plain": [
       "   age     sex     bmi  children smoker     region      charges\n",
       "0   19  female  27.900         0    yes  southwest  16884.92400\n",
       "1   18    male  33.770         1     no  southeast   1725.55230\n",
       "2   28    male  33.000         3     no  southeast   4449.46200\n",
       "3   33    male  22.705         0     no  northwest  21984.47061\n",
       "4   32    male  28.880         0     no  northwest   3866.85520"
      ]
     },
     "execution_count": 2,
     "metadata": {},
     "output_type": "execute_result"
    }
   ],
   "source": [
    "## Loading data from our csv file to Pandas DataFrame\n",
    "df = pd.read_csv('insurance.csv')\n",
    "df.head()"
   ]
  },
  {
   "cell_type": "markdown",
   "id": "e1f26c58",
   "metadata": {},
   "source": [
    "### Domain analysis"
   ]
  },
  {
   "cell_type": "markdown",
   "id": "6c8b92aa",
   "metadata": {},
   "source": [
    "Age      : age of primary beneficiary\n",
    "\n",
    "Sex      : beneficiary’s gender - female or male\n",
    "\n",
    "BMI      : Body mass index is a value derived from the mass and height of a person. The BMI is defined as the body mass                divided by the square of the body height, and is expressed in units of kg/m², resulting from mass in kilograms              and height in metres, ideally 18.5 to 24.9\n",
    "\n",
    "Children : Number of children covered by health insurance / Number of dependents\n",
    "\n",
    "Smoker   : Smoking or non-smoking\n",
    "\n",
    "Region   : the beneficiary's residential area in the US; northeast, southeast, southwest, northwest.\n",
    "\n",
    "Charges  : Individual medical costs billed by health insurance (to be predicted)\n",
    "\n"
   ]
  },
  {
   "cell_type": "code",
   "execution_count": 3,
   "id": "9089ed56",
   "metadata": {},
   "outputs": [
    {
     "data": {
      "text/plain": [
       "(1338, 7)"
      ]
     },
     "execution_count": 3,
     "metadata": {},
     "output_type": "execute_result"
    }
   ],
   "source": [
    "## undersatnding number of rows and columns\n",
    "df.shape"
   ]
  },
  {
   "cell_type": "code",
   "execution_count": 4,
   "id": "0ccfebca",
   "metadata": {},
   "outputs": [
    {
     "name": "stdout",
     "output_type": "stream",
     "text": [
      "<class 'pandas.core.frame.DataFrame'>\n",
      "RangeIndex: 1338 entries, 0 to 1337\n",
      "Data columns (total 7 columns):\n",
      " #   Column    Non-Null Count  Dtype  \n",
      "---  ------    --------------  -----  \n",
      " 0   age       1338 non-null   int64  \n",
      " 1   sex       1338 non-null   object \n",
      " 2   bmi       1338 non-null   float64\n",
      " 3   children  1338 non-null   int64  \n",
      " 4   smoker    1338 non-null   object \n",
      " 5   region    1338 non-null   object \n",
      " 6   charges   1338 non-null   float64\n",
      "dtypes: float64(2), int64(2), object(3)\n",
      "memory usage: 73.3+ KB\n"
     ]
    }
   ],
   "source": [
    "## getting some info regarding the dataset\n",
    "df.info()"
   ]
  },
  {
   "cell_type": "markdown",
   "id": "b0e07a90",
   "metadata": {},
   "source": [
    "#### Categorical Features:\n",
    "- sex\n",
    "- smoker\n",
    "- region"
   ]
  },
  {
   "cell_type": "code",
   "execution_count": 5,
   "id": "b5ddce9d",
   "metadata": {},
   "outputs": [
    {
     "data": {
      "text/plain": [
       "age         0\n",
       "sex         0\n",
       "bmi         0\n",
       "children    0\n",
       "smoker      0\n",
       "region      0\n",
       "charges     0\n",
       "dtype: int64"
      ]
     },
     "execution_count": 5,
     "metadata": {},
     "output_type": "execute_result"
    }
   ],
   "source": [
    "## checking missing values\n",
    "df.isnull().sum()"
   ]
  },
  {
   "cell_type": "code",
   "execution_count": 6,
   "id": "5c720d0d",
   "metadata": {},
   "outputs": [
    {
     "data": {
      "text/html": [
       "<div>\n",
       "<style scoped>\n",
       "    .dataframe tbody tr th:only-of-type {\n",
       "        vertical-align: middle;\n",
       "    }\n",
       "\n",
       "    .dataframe tbody tr th {\n",
       "        vertical-align: top;\n",
       "    }\n",
       "\n",
       "    .dataframe thead th {\n",
       "        text-align: right;\n",
       "    }\n",
       "</style>\n",
       "<table border=\"1\" class=\"dataframe\">\n",
       "  <thead>\n",
       "    <tr style=\"text-align: right;\">\n",
       "      <th></th>\n",
       "      <th>age</th>\n",
       "      <th>bmi</th>\n",
       "      <th>children</th>\n",
       "      <th>charges</th>\n",
       "    </tr>\n",
       "  </thead>\n",
       "  <tbody>\n",
       "    <tr>\n",
       "      <th>count</th>\n",
       "      <td>1338.000000</td>\n",
       "      <td>1338.000000</td>\n",
       "      <td>1338.000000</td>\n",
       "      <td>1338.000000</td>\n",
       "    </tr>\n",
       "    <tr>\n",
       "      <th>mean</th>\n",
       "      <td>39.207025</td>\n",
       "      <td>30.663397</td>\n",
       "      <td>1.094918</td>\n",
       "      <td>13270.422265</td>\n",
       "    </tr>\n",
       "    <tr>\n",
       "      <th>std</th>\n",
       "      <td>14.049960</td>\n",
       "      <td>6.098187</td>\n",
       "      <td>1.205493</td>\n",
       "      <td>12110.011237</td>\n",
       "    </tr>\n",
       "    <tr>\n",
       "      <th>min</th>\n",
       "      <td>18.000000</td>\n",
       "      <td>15.960000</td>\n",
       "      <td>0.000000</td>\n",
       "      <td>1121.873900</td>\n",
       "    </tr>\n",
       "    <tr>\n",
       "      <th>25%</th>\n",
       "      <td>27.000000</td>\n",
       "      <td>26.296250</td>\n",
       "      <td>0.000000</td>\n",
       "      <td>4740.287150</td>\n",
       "    </tr>\n",
       "    <tr>\n",
       "      <th>50%</th>\n",
       "      <td>39.000000</td>\n",
       "      <td>30.400000</td>\n",
       "      <td>1.000000</td>\n",
       "      <td>9382.033000</td>\n",
       "    </tr>\n",
       "    <tr>\n",
       "      <th>75%</th>\n",
       "      <td>51.000000</td>\n",
       "      <td>34.693750</td>\n",
       "      <td>2.000000</td>\n",
       "      <td>16639.912515</td>\n",
       "    </tr>\n",
       "    <tr>\n",
       "      <th>max</th>\n",
       "      <td>64.000000</td>\n",
       "      <td>53.130000</td>\n",
       "      <td>5.000000</td>\n",
       "      <td>63770.428010</td>\n",
       "    </tr>\n",
       "  </tbody>\n",
       "</table>\n",
       "</div>"
      ],
      "text/plain": [
       "               age          bmi     children       charges\n",
       "count  1338.000000  1338.000000  1338.000000   1338.000000\n",
       "mean     39.207025    30.663397     1.094918  13270.422265\n",
       "std      14.049960     6.098187     1.205493  12110.011237\n",
       "min      18.000000    15.960000     0.000000   1121.873900\n",
       "25%      27.000000    26.296250     0.000000   4740.287150\n",
       "50%      39.000000    30.400000     1.000000   9382.033000\n",
       "75%      51.000000    34.693750     2.000000  16639.912515\n",
       "max      64.000000    53.130000     5.000000  63770.428010"
      ]
     },
     "execution_count": 6,
     "metadata": {},
     "output_type": "execute_result"
    }
   ],
   "source": [
    "df.describe()"
   ]
  },
  {
   "cell_type": "code",
   "execution_count": null,
   "id": "a5d0b39c",
   "metadata": {},
   "outputs": [],
   "source": []
  },
  {
   "cell_type": "code",
   "execution_count": null,
   "id": "7308fb59",
   "metadata": {},
   "outputs": [],
   "source": []
  },
  {
   "cell_type": "markdown",
   "id": "3c9905a4",
   "metadata": {},
   "source": [
    "### Exploratory Data Analysis"
   ]
  },
  {
   "cell_type": "code",
   "execution_count": 7,
   "id": "a9ae51e9",
   "metadata": {},
   "outputs": [
    {
     "data": {
      "image/png": "[encoded data removed]",
      "text/plain": [
       "<Figure size 360x360 with 1 Axes>"
      ]
     },
     "metadata": {
      "needs_background": "light"
     },
     "output_type": "display_data"
    }
   ],
   "source": [
    "## understanding the distribution of age value\n",
    "sns.displot(df['age'], kde= True)\n",
    "plt.title('Age Distribution')\n",
    "plt.show()"
   ]
  },
  {
   "cell_type": "markdown",
   "id": "900e0b82",
   "metadata": {},
   "source": [
    "- Most people in our dataset are in the age group of 20s"
   ]
  },
  {
   "cell_type": "code",
   "execution_count": null,
   "id": "081b4eb7",
   "metadata": {},
   "outputs": [],
   "source": []
  },
  {
   "cell_type": "code",
   "execution_count": 8,
   "id": "86b51ac2",
   "metadata": {},
   "outputs": [
    {
     "data": {
      "image/png": "[encoded data removed]",
      "text/plain": [
       "<Figure size 432x288 with 1 Axes>"
      ]
     },
     "metadata": {},
     "output_type": "display_data"
    }
   ],
   "source": [
    "sns.set_style('whitegrid')\n",
    "sns.countplot(x= 'sex', data= df)\n",
    "plt.title('Sex Distribution')\n",
    "plt.show()"
   ]
  },
  {
   "cell_type": "markdown",
   "id": "6d0dd801",
   "metadata": {},
   "source": [
    "- The distribution of male and female are almost same in the given dataset"
   ]
  },
  {
   "cell_type": "code",
   "execution_count": null,
   "id": "51318359",
   "metadata": {},
   "outputs": [],
   "source": []
  },
  {
   "cell_type": "code",
   "execution_count": 9,
   "id": "67a9307b",
   "metadata": {},
   "outputs": [
    {
     "data": {
      "image/png": "[encoded data removed]",
      "text/plain": [
       "<Figure size 360x360 with 1 Axes>"
      ]
     },
     "metadata": {},
     "output_type": "display_data"
    }
   ],
   "source": [
    "## bmi distribution\n",
    "sns.displot(df['bmi'], kde= True)\n",
    "plt.title('BMI Distribution')\n",
    "plt.show()"
   ]
  },
  {
   "cell_type": "markdown",
   "id": "5aed9115",
   "metadata": {},
   "source": [
    "- Normal BMI range is 18.5 to 24.9"
   ]
  },
  {
   "cell_type": "code",
   "execution_count": null,
   "id": "afc3a220",
   "metadata": {},
   "outputs": [],
   "source": []
  },
  {
   "cell_type": "code",
   "execution_count": 10,
   "id": "86201f54",
   "metadata": {},
   "outputs": [
    {
     "data": {
      "image/png": "[encoded data removed]",
      "text/plain": [
       "<Figure size 432x288 with 1 Axes>"
      ]
     },
     "metadata": {},
     "output_type": "display_data"
    }
   ],
   "source": [
    "sns.set_style('darkgrid')\n",
    "sns.countplot(x= 'children', data= df)\n",
    "plt.title('Children')\n",
    "plt.show()"
   ]
  },
  {
   "cell_type": "markdown",
   "id": "0a4f5c4b",
   "metadata": {},
   "source": [
    "- We have more people in our dataset with no children."
   ]
  },
  {
   "cell_type": "code",
   "execution_count": 11,
   "id": "46480993",
   "metadata": {},
   "outputs": [
    {
     "data": {
      "text/plain": [
       "0    574\n",
       "1    324\n",
       "2    240\n",
       "3    157\n",
       "4     25\n",
       "5     18\n",
       "Name: children, dtype: int64"
      ]
     },
     "execution_count": 11,
     "metadata": {},
     "output_type": "execute_result"
    }
   ],
   "source": [
    "df['children'].value_counts()"
   ]
  },
  {
   "cell_type": "code",
   "execution_count": null,
   "id": "f0464bec",
   "metadata": {},
   "outputs": [],
   "source": []
  },
  {
   "cell_type": "code",
   "execution_count": 12,
   "id": "aa27b430",
   "metadata": {},
   "outputs": [
    {
     "data": {
      "image/png": "[encoded data removed]",
      "text/plain": [
       "<Figure size 432x288 with 1 Axes>"
      ]
     },
     "metadata": {},
     "output_type": "display_data"
    }
   ],
   "source": [
    "sns.set_style('darkgrid')\n",
    "sns.countplot(x= 'smoker', data= df)\n",
    "plt.title('smoker')\n",
    "plt.show()"
   ]
  },
  {
   "cell_type": "markdown",
   "id": "e7a317f4",
   "metadata": {},
   "source": [
    "- More people in our dataset are non- smokers"
   ]
  },
  {
   "cell_type": "code",
   "execution_count": 13,
   "id": "da8b8bba",
   "metadata": {},
   "outputs": [
    {
     "data": {
      "text/plain": [
       "no     1064\n",
       "yes     274\n",
       "Name: smoker, dtype: int64"
      ]
     },
     "execution_count": 13,
     "metadata": {},
     "output_type": "execute_result"
    }
   ],
   "source": [
    "df['smoker'].value_counts()"
   ]
  },
  {
   "cell_type": "code",
   "execution_count": null,
   "id": "66004e29",
   "metadata": {},
   "outputs": [],
   "source": []
  },
  {
   "cell_type": "code",
   "execution_count": 14,
   "id": "3e26ac4e",
   "metadata": {},
   "outputs": [
    {
     "data": {
      "image/png": "[encoded data removed]",
      "text/plain": [
       "<Figure size 432x288 with 1 Axes>"
      ]
     },
     "metadata": {},
     "output_type": "display_data"
    }
   ],
   "source": [
    "sns.set_style('darkgrid')\n",
    "sns.countplot(x= 'region', data= df)\n",
    "plt.title('region')\n",
    "plt.show()"
   ]
  },
  {
   "cell_type": "markdown",
   "id": "5dd9a0fb",
   "metadata": {},
   "source": [
    "- More people in our dataset are from southeast "
   ]
  },
  {
   "cell_type": "code",
   "execution_count": 15,
   "id": "b92ee6a8",
   "metadata": {},
   "outputs": [
    {
     "data": {
      "text/plain": [
       "southeast    364\n",
       "southwest    325\n",
       "northwest    325\n",
       "northeast    324\n",
       "Name: region, dtype: int64"
      ]
     },
     "execution_count": 15,
     "metadata": {},
     "output_type": "execute_result"
    }
   ],
   "source": [
    "df['region'].value_counts()"
   ]
  },
  {
   "cell_type": "code",
   "execution_count": null,
   "id": "d1fa64be",
   "metadata": {},
   "outputs": [],
   "source": []
  },
  {
   "cell_type": "code",
   "execution_count": 16,
   "id": "4284e77d",
   "metadata": {},
   "outputs": [
    {
     "data": {
      "image/png": "[encoded data removed]",
      "text/plain": [
       "<Figure size 360x360 with 1 Axes>"
      ]
     },
     "metadata": {},
     "output_type": "display_data"
    }
   ],
   "source": [
    "## Distribution of the Charges\n",
    "sns.displot(df['charges'], kde= True)\n",
    "plt.title('Distribution Of Charges')\n",
    "plt.show()"
   ]
  },
  {
   "cell_type": "markdown",
   "id": "2173601e",
   "metadata": {},
   "source": [
    "- We have more data accumalated below 10,000$ "
   ]
  },
  {
   "cell_type": "code",
   "execution_count": null,
   "id": "3e54fdf2",
   "metadata": {},
   "outputs": [],
   "source": []
  },
  {
   "cell_type": "code",
   "execution_count": 17,
   "id": "6d7a99c4",
   "metadata": {},
   "outputs": [
    {
     "data": {
      "text/plain": [
       "<AxesSubplot:xlabel='bmi', ylabel='charges'>"
      ]
     },
     "execution_count": 17,
     "metadata": {},
     "output_type": "execute_result"
    },
    {
     "data": {
      "image/png": "[encoded data removed]",
      "text/plain": [
       "<Figure size 720x360 with 1 Axes>"
      ]
     },
     "metadata": {},
     "output_type": "display_data"
    }
   ],
   "source": [
    "plt.figure(figsize=(10,5))\n",
    "sns.lineplot(x=df.bmi,y=df.charges)"
   ]
  },
  {
   "cell_type": "markdown",
   "id": "99fc9fb9",
   "metadata": {},
   "source": [
    "- Higher the bmi higher the charges"
   ]
  },
  {
   "cell_type": "code",
   "execution_count": null,
   "id": "cc17486a",
   "metadata": {},
   "outputs": [],
   "source": []
  },
  {
   "cell_type": "code",
   "execution_count": 18,
   "id": "3e48a97b",
   "metadata": {},
   "outputs": [
    {
     "data": {
      "text/plain": [
       "<AxesSubplot:xlabel='bmi', ylabel='charges'>"
      ]
     },
     "execution_count": 18,
     "metadata": {},
     "output_type": "execute_result"
    },
    {
     "data": {
      "image/png": "[encoded data removed]",
      "text/plain": [
       "<Figure size 720x360 with 1 Axes>"
      ]
     },
     "metadata": {},
     "output_type": "display_data"
    }
   ],
   "source": [
    "plt.figure(figsize=(10,5))\n",
    "sns.scatterplot(x=df.bmi,y=df.charges,hue=df.smoker)"
   ]
  },
  {
   "cell_type": "markdown",
   "id": "442ed3e5",
   "metadata": {},
   "source": [
    "- The premium charges are increasing if the person has higher bmi & is a smoker "
   ]
  },
  {
   "cell_type": "markdown",
   "id": "d06ad238",
   "metadata": {},
   "source": [
    "####  Heatmap Creation"
   ]
  },
  {
   "cell_type": "code",
   "execution_count": 19,
   "id": "e6ae2ebe",
   "metadata": {},
   "outputs": [],
   "source": [
    "numeric_columns=['age', 'bmi', 'children', 'charges']"
   ]
  },
  {
   "cell_type": "code",
   "execution_count": 20,
   "id": "5ad49270",
   "metadata": {},
   "outputs": [
    {
     "data": {
      "image/png": "[encoded data removed]",
      "text/plain": [
       "<Figure size 720x720 with 2 Axes>"
      ]
     },
     "metadata": {},
     "output_type": "display_data"
    }
   ],
   "source": [
    "sns.heatmap(df[numeric_columns].corr(),annot= True, linewidths= 0.1)\n",
    "fig= plt.gcf() \n",
    "fig.set_size_inches(10,10)\n",
    "plt.show()"
   ]
  },
  {
   "cell_type": "markdown",
   "id": "1b7328c5",
   "metadata": {},
   "source": [
    "## Data Pre-Processing"
   ]
  },
  {
   "cell_type": "markdown",
   "id": "13c5a6c6",
   "metadata": {},
   "source": [
    "#### Encoding the categorical features"
   ]
  },
  {
   "cell_type": "code",
   "execution_count": 21,
   "id": "7530ee4f",
   "metadata": {},
   "outputs": [],
   "source": [
    "## encoding sex column\n",
    "df.replace({'sex':{'male':1, 'female': 0 }}, inplace= True)\n",
    "\n",
    "## encoding smoker column\n",
    "df.replace({'smoker':{'yes':0, 'no':1}}, inplace= True)\n",
    "\n",
    "## encoding region column\n",
    "df.replace({'region':{'southwest':0,'southeast':1,'northwest':2,'northeast':3 }}, inplace= True)"
   ]
  },
  {
   "cell_type": "markdown",
   "id": "106b7e9f",
   "metadata": {},
   "source": [
    "#### Finding outliers in our data"
   ]
  },
  {
   "cell_type": "code",
   "execution_count": 22,
   "id": "2862cfa3",
   "metadata": {},
   "outputs": [
    {
     "data": {
      "text/plain": [
       "<AxesSubplot:xlabel='age'>"
      ]
     },
     "execution_count": 22,
     "metadata": {},
     "output_type": "execute_result"
    },
    {
     "data": {
      "image/png": "[encoded data removed]",
      "text/plain": [
       "<Figure size 432x288 with 1 Axes>"
      ]
     },
     "metadata": {},
     "output_type": "display_data"
    }
   ],
   "source": [
    "sns.boxplot(x= 'age', data =df)"
   ]
  },
  {
   "cell_type": "code",
   "execution_count": 23,
   "id": "f1d32b5c",
   "metadata": {},
   "outputs": [
    {
     "data": {
      "text/plain": [
       "<AxesSubplot:xlabel='bmi'>"
      ]
     },
     "execution_count": 23,
     "metadata": {},
     "output_type": "execute_result"
    },
    {
     "data": {
      "image/png": "[encoded data removed]",
      "text/plain": [
       "<Figure size 432x288 with 1 Axes>"
      ]
     },
     "metadata": {},
     "output_type": "display_data"
    }
   ],
   "source": [
    "sns.boxplot(x= 'bmi', data =df)"
   ]
  },
  {
   "cell_type": "code",
   "execution_count": 24,
   "id": "25a426db",
   "metadata": {},
   "outputs": [
    {
     "data": {
      "text/plain": [
       "Text(0, 0.5, 'Count')"
      ]
     },
     "execution_count": 24,
     "metadata": {},
     "output_type": "execute_result"
    },
    {
     "data": {
      "image/png": "[encoded data removed]",
      "text/plain": [
       "<Figure size 432x288 with 1 Axes>"
      ]
     },
     "metadata": {},
     "output_type": "display_data"
    }
   ],
   "source": [
    "figure=df.bmi.hist(bins=50)\n",
    "figure.set_title('BMI')\n",
    "figure.set_xlabel('BMI')\n",
    "figure.set_ylabel('Count')"
   ]
  },
  {
   "cell_type": "code",
   "execution_count": 25,
   "id": "b3b638a0",
   "metadata": {},
   "outputs": [
    {
     "name": "stdout",
     "output_type": "stream",
     "text": [
      "48.95795759602359\n",
      "12.368836125949485\n",
      "30.663396860986538\n"
     ]
    },
    {
     "data": {
      "text/plain": [
       "(None, None, None)"
      ]
     },
     "execution_count": 25,
     "metadata": {},
     "output_type": "execute_result"
    }
   ],
   "source": [
    "##### Assuming Age follows A Gaussian Distribution we will calculate the boundaries which differentiates the outliers\n",
    "\n",
    "upper_boundary=df['bmi'].mean() + 3* df['bmi'].std()\n",
    "lower_boundary=df['bmi'].mean() - 3* df['bmi'].std()\n",
    "print(upper_boundary), print(lower_boundary),print(df['bmi'].mean())"
   ]
  },
  {
   "cell_type": "code",
   "execution_count": 26,
   "id": "98c19e3f",
   "metadata": {},
   "outputs": [],
   "source": [
    "df1=df.copy()"
   ]
  },
  {
   "cell_type": "code",
   "execution_count": 27,
   "id": "fb7dd541",
   "metadata": {},
   "outputs": [],
   "source": [
    "df1.loc[df1['bmi']>=48,'bmi']= 48  ##replacing the outliers with upper_boundary "
   ]
  },
  {
   "cell_type": "code",
   "execution_count": 28,
   "id": "c906841d",
   "metadata": {},
   "outputs": [
    {
     "data": {
      "text/plain": [
       "Text(0, 0.5, 'Count')"
      ]
     },
     "execution_count": 28,
     "metadata": {},
     "output_type": "execute_result"
    },
    {
     "data": {
      "image/png": "[encoded data removed]",
      "text/plain": [
       "<Figure size 432x288 with 1 Axes>"
      ]
     },
     "metadata": {},
     "output_type": "display_data"
    }
   ],
   "source": [
    "figure=df1.bmi.hist(bins=50)\n",
    "figure.set_title('BMI')\n",
    "figure.set_xlabel('BMI')\n",
    "figure.set_ylabel('Count')"
   ]
  },
  {
   "cell_type": "code",
   "execution_count": 29,
   "id": "1925d82f",
   "metadata": {},
   "outputs": [
    {
     "data": {
      "text/plain": [
       "count    1338.000000\n",
       "mean       30.653516\n",
       "std         6.066670\n",
       "min        15.960000\n",
       "25%        26.296250\n",
       "50%        30.400000\n",
       "75%        34.693750\n",
       "max        48.000000\n",
       "Name: bmi, dtype: float64"
      ]
     },
     "execution_count": 29,
     "metadata": {},
     "output_type": "execute_result"
    }
   ],
   "source": [
    "df1['bmi'].describe()"
   ]
  },
  {
   "cell_type": "code",
   "execution_count": null,
   "id": "7fdb7109",
   "metadata": {},
   "outputs": [],
   "source": []
  },
  {
   "cell_type": "code",
   "execution_count": null,
   "id": "e727efd7",
   "metadata": {},
   "outputs": [],
   "source": []
  },
  {
   "cell_type": "markdown",
   "id": "93643a42",
   "metadata": {},
   "source": [
    "## Splitting the Features and Target"
   ]
  },
  {
   "cell_type": "code",
   "execution_count": 30,
   "id": "f83bbe6d",
   "metadata": {},
   "outputs": [],
   "source": [
    "x= df1.drop(columns='charges' , axis=1)\n",
    "y= df1['charges']"
   ]
  },
  {
   "cell_type": "code",
   "execution_count": 31,
   "id": "58aed301",
   "metadata": {},
   "outputs": [
    {
     "data": {
      "text/html": [
       "<div>\n",
       "<style scoped>\n",
       "    .dataframe tbody tr th:only-of-type {\n",
       "        vertical-align: middle;\n",
       "    }\n",
       "\n",
       "    .dataframe tbody tr th {\n",
       "        vertical-align: top;\n",
       "    }\n",
       "\n",
       "    .dataframe thead th {\n",
       "        text-align: right;\n",
       "    }\n",
       "</style>\n",
       "<table border=\"1\" class=\"dataframe\">\n",
       "  <thead>\n",
       "    <tr style=\"text-align: right;\">\n",
       "      <th></th>\n",
       "      <th>age</th>\n",
       "      <th>sex</th>\n",
       "      <th>bmi</th>\n",
       "      <th>children</th>\n",
       "      <th>smoker</th>\n",
       "      <th>region</th>\n",
       "    </tr>\n",
       "  </thead>\n",
       "  <tbody>\n",
       "    <tr>\n",
       "      <th>0</th>\n",
       "      <td>19</td>\n",
       "      <td>0</td>\n",
       "      <td>27.900</td>\n",
       "      <td>0</td>\n",
       "      <td>0</td>\n",
       "      <td>0</td>\n",
       "    </tr>\n",
       "    <tr>\n",
       "      <th>1</th>\n",
       "      <td>18</td>\n",
       "      <td>1</td>\n",
       "      <td>33.770</td>\n",
       "      <td>1</td>\n",
       "      <td>1</td>\n",
       "      <td>1</td>\n",
       "    </tr>\n",
       "    <tr>\n",
       "      <th>2</th>\n",
       "      <td>28</td>\n",
       "      <td>1</td>\n",
       "      <td>33.000</td>\n",
       "      <td>3</td>\n",
       "      <td>1</td>\n",
       "      <td>1</td>\n",
       "    </tr>\n",
       "    <tr>\n",
       "      <th>3</th>\n",
       "      <td>33</td>\n",
       "      <td>1</td>\n",
       "      <td>22.705</td>\n",
       "      <td>0</td>\n",
       "      <td>1</td>\n",
       "      <td>2</td>\n",
       "    </tr>\n",
       "    <tr>\n",
       "      <th>4</th>\n",
       "      <td>32</td>\n",
       "      <td>1</td>\n",
       "      <td>28.880</td>\n",
       "      <td>0</td>\n",
       "      <td>1</td>\n",
       "      <td>2</td>\n",
       "    </tr>\n",
       "  </tbody>\n",
       "</table>\n",
       "</div>"
      ],
      "text/plain": [
       "   age  sex     bmi  children  smoker  region\n",
       "0   19    0  27.900         0       0       0\n",
       "1   18    1  33.770         1       1       1\n",
       "2   28    1  33.000         3       1       1\n",
       "3   33    1  22.705         0       1       2\n",
       "4   32    1  28.880         0       1       2"
      ]
     },
     "execution_count": 31,
     "metadata": {},
     "output_type": "execute_result"
    }
   ],
   "source": [
    "x.head()"
   ]
  },
  {
   "cell_type": "code",
   "execution_count": 32,
   "id": "6d13a8a6",
   "metadata": {},
   "outputs": [
    {
     "data": {
      "text/plain": [
       "0    16884.92400\n",
       "1     1725.55230\n",
       "2     4449.46200\n",
       "3    21984.47061\n",
       "4     3866.85520\n",
       "Name: charges, dtype: float64"
      ]
     },
     "execution_count": 32,
     "metadata": {},
     "output_type": "execute_result"
    }
   ],
   "source": [
    "y.head()"
   ]
  },
  {
   "cell_type": "code",
   "execution_count": null,
   "id": "0cc2cbd1",
   "metadata": {},
   "outputs": [],
   "source": []
  },
  {
   "cell_type": "code",
   "execution_count": null,
   "id": "d2cb847c",
   "metadata": {},
   "outputs": [],
   "source": []
  },
  {
   "cell_type": "markdown",
   "id": "78304152",
   "metadata": {},
   "source": [
    "### Scaling The Data & Splitting The Data Into Training And Testing Data"
   ]
  },
  {
   "cell_type": "code",
   "execution_count": 33,
   "id": "f8f74c05",
   "metadata": {},
   "outputs": [],
   "source": [
    "from sklearn.preprocessing import StandardScaler\n",
    "std= StandardScaler().fit(x)\n",
    "x_std = std.transform(x)"
   ]
  },
  {
   "cell_type": "code",
   "execution_count": 34,
   "id": "ae92993e",
   "metadata": {},
   "outputs": [
    {
     "data": {
      "text/plain": [
       "array([[-1.43876426, -1.0105187 , -0.45404576, -0.90861367, -1.97058663,\n",
       "        -1.34390459],\n",
       "       [-1.50996545,  0.98959079,  0.51389784, -0.07876719,  0.5074631 ,\n",
       "        -0.43849455],\n",
       "       [-0.79795355,  0.98959079,  0.38692738,  1.58092576,  0.5074631 ,\n",
       "        -0.43849455],\n",
       "       ...,\n",
       "       [-1.50996545, -1.0105187 ,  1.02177965, -0.90861367,  0.5074631 ,\n",
       "        -0.43849455],\n",
       "       [-1.29636188, -1.0105187 , -0.80032881, -0.90861367,  0.5074631 ,\n",
       "        -1.34390459],\n",
       "       [ 1.55168573, -1.0105187 , -0.26111663, -0.90861367, -1.97058663,\n",
       "         0.46691549]])"
      ]
     },
     "execution_count": 34,
     "metadata": {},
     "output_type": "execute_result"
    }
   ],
   "source": [
    "x_std"
   ]
  },
  {
   "cell_type": "code",
   "execution_count": 35,
   "id": "993c63dd",
   "metadata": {},
   "outputs": [],
   "source": [
    "from sklearn.model_selection import train_test_split"
   ]
  },
  {
   "cell_type": "code",
   "execution_count": 36,
   "id": "83e6f7d3",
   "metadata": {},
   "outputs": [],
   "source": [
    "x_train, x_test, y_train, y_test = train_test_split(x,y,random_state=42, test_size=0.3, shuffle= True)"
   ]
  },
  {
   "cell_type": "code",
   "execution_count": 37,
   "id": "a9c82edb",
   "metadata": {},
   "outputs": [],
   "source": [
    "x_train_std, x_test_std, y_train, y_test = train_test_split(x_std,y,random_state=42, test_size=0.3, shuffle= True)"
   ]
  },
  {
   "cell_type": "code",
   "execution_count": null,
   "id": "5c830dde",
   "metadata": {},
   "outputs": [],
   "source": []
  },
  {
   "cell_type": "code",
   "execution_count": null,
   "id": "64a2b976",
   "metadata": {},
   "outputs": [],
   "source": []
  },
  {
   "cell_type": "markdown",
   "id": "bdfb5a00",
   "metadata": {},
   "source": [
    "## Model Training"
   ]
  },
  {
   "cell_type": "markdown",
   "id": "ca927a13",
   "metadata": {},
   "source": [
    "#### Linear Regression"
   ]
  },
  {
   "cell_type": "code",
   "execution_count": 38,
   "id": "3f10b241",
   "metadata": {},
   "outputs": [],
   "source": [
    "from sklearn.linear_model import LinearRegression"
   ]
  },
  {
   "cell_type": "code",
   "execution_count": 39,
   "id": "24d10509",
   "metadata": {},
   "outputs": [],
   "source": [
    "reg= LinearRegression()"
   ]
  },
  {
   "cell_type": "code",
   "execution_count": 40,
   "id": "a9acfb1d",
   "metadata": {},
   "outputs": [
    {
     "data": {
      "text/html": [
       "<style>#sk-container-id-1 {color: black;background-color: white;}#sk-container-id-1 pre{padding: 0;}#sk-container-id-1 div.sk-toggleable {background-color: white;}#sk-container-id-1 label.sk-toggleable__label {cursor: pointer;display: block;width: 100%;margin-bottom: 0;padding: 0.3em;box-sizing: border-box;text-align: center;}#sk-container-id-1 label.sk-toggleable__label-arrow:before {content: \"▸\";float: left;margin-right: 0.25em;color: #696969;}#sk-container-id-1 label.sk-toggleable__label-arrow:hover:before {color: black;}#sk-container-id-1 div.sk-estimator:hover label.sk-toggleable__label-arrow:before {color: black;}#sk-container-id-1 div.sk-toggleable__content {max-height: 0;max-width: 0;overflow: hidden;text-align: left;background-color: #f0f8ff;}#sk-container-id-1 div.sk-toggleable__content pre {margin: 0.2em;color: black;border-radius: 0.25em;background-color: #f0f8ff;}#sk-container-id-1 input.sk-toggleable__control:checked~div.sk-toggleable__content {max-height: 200px;max-width: 100%;overflow: auto;}#sk-container-id-1 input.sk-toggleable__control:checked~label.sk-toggleable__label-arrow:before {content: \"▾\";}#sk-container-id-1 div.sk-estimator input.sk-toggleable__control:checked~label.sk-toggleable__label {background-color: #d4ebff;}#sk-container-id-1 div.sk-label input.sk-toggleable__control:checked~label.sk-toggleable__label {background-color: #d4ebff;}#sk-container-id-1 input.sk-hidden--visually {border: 0;clip: rect(1px 1px 1px 1px);clip: rect(1px, 1px, 1px, 1px);height: 1px;margin: -1px;overflow: hidden;padding: 0;position: absolute;width: 1px;}#sk-container-id-1 div.sk-estimator {font-family: monospace;background-color: #f0f8ff;border: 1px dotted black;border-radius: 0.25em;box-sizing: border-box;margin-bottom: 0.5em;}#sk-container-id-1 div.sk-estimator:hover {background-color: #d4ebff;}#sk-container-id-1 div.sk-parallel-item::after {content: \"\";width: 100%;border-bottom: 1px solid gray;flex-grow: 1;}#sk-container-id-1 div.sk-label:hover label.sk-toggleable__label {background-color: #d4ebff;}#sk-container-id-1 div.sk-serial::before {content: \"\";position: absolute;border-left: 1px solid gray;box-sizing: border-box;top: 0;bottom: 0;left: 50%;z-index: 0;}#sk-container-id-1 div.sk-serial {display: flex;flex-direction: column;align-items: center;background-color: white;padding-right: 0.2em;padding-left: 0.2em;position: relative;}#sk-container-id-1 div.sk-item {position: relative;z-index: 1;}#sk-container-id-1 div.sk-parallel {display: flex;align-items: stretch;justify-content: center;background-color: white;position: relative;}#sk-container-id-1 div.sk-item::before, #sk-container-id-1 div.sk-parallel-item::before {content: \"\";position: absolute;border-left: 1px solid gray;box-sizing: border-box;top: 0;bottom: 0;left: 50%;z-index: -1;}#sk-container-id-1 div.sk-parallel-item {display: flex;flex-direction: column;z-index: 1;position: relative;background-color: white;}#sk-container-id-1 div.sk-parallel-item:first-child::after {align-self: flex-end;width: 50%;}#sk-container-id-1 div.sk-parallel-item:last-child::after {align-self: flex-start;width: 50%;}#sk-container-id-1 div.sk-parallel-item:only-child::after {width: 0;}#sk-container-id-1 div.sk-dashed-wrapped {border: 1px dashed gray;margin: 0 0.4em 0.5em 0.4em;box-sizing: border-box;padding-bottom: 0.4em;background-color: white;}#sk-container-id-1 div.sk-label label {font-family: monospace;font-weight: bold;display: inline-block;line-height: 1.2em;}#sk-container-id-1 div.sk-label-container {text-align: center;}#sk-container-id-1 div.sk-container {/* jupyter's `normalize.less` sets `[hidden] { display: none; }` but bootstrap.min.css set `[hidden] { display: none !important; }` so we also need the `!important` here to be able to override the default hidden behavior on the sphinx rendered scikit-learn.org. See: https://github.com/scikit-learn/scikit-learn/issues/21755 */display: inline-block !important;position: relative;}#sk-container-id-1 div.sk-text-repr-fallback {display: none;}</style><div id=\"sk-container-id-1\" class=\"sk-top-container\"><div class=\"sk-text-repr-fallback\"><pre>LinearRegression()</pre><b>In a Jupyter environment, please rerun this cell to show the HTML representation or trust the notebook. <br />On GitHub, the HTML representation is unable to render, please try loading this page with nbviewer.org.</b></div><div class=\"sk-container\" hidden><div class=\"sk-item\"><div class=\"sk-estimator sk-toggleable\"><input class=\"sk-toggleable__control sk-hidden--visually\" id=\"sk-estimator-id-1\" type=\"checkbox\" checked><label for=\"sk-estimator-id-1\" class=\"sk-toggleable__label sk-toggleable__label-arrow\">LinearRegression</label><div class=\"sk-toggleable__content\"><pre>LinearRegression()</pre></div></div></div></div></div>"
      ],
      "text/plain": [
       "LinearRegression()"
      ]
     },
     "execution_count": 40,
     "metadata": {},
     "output_type": "execute_result"
    }
   ],
   "source": [
    "reg.fit(x_train,y_train)"
   ]
  },
  {
   "cell_type": "markdown",
   "id": "bbe1c230",
   "metadata": {},
   "source": [
    "#### Model Evaluation"
   ]
  },
  {
   "cell_type": "code",
   "execution_count": 41,
   "id": "3a4a1ca9",
   "metadata": {},
   "outputs": [],
   "source": [
    "from sklearn import metrics\n",
    "from sklearn.metrics import r2_score,accuracy_score,mean_squared_error, mean_absolute_error"
   ]
  },
  {
   "cell_type": "code",
   "execution_count": 42,
   "id": "bccaf278",
   "metadata": {},
   "outputs": [],
   "source": [
    "predict_reg = reg.predict(x_test)"
   ]
  },
  {
   "cell_type": "code",
   "execution_count": 43,
   "id": "9d1737fa",
   "metadata": {},
   "outputs": [],
   "source": [
    "## R squared value\n",
    "r2_linear = r2_score(y_test,predict_reg)*100"
   ]
  },
  {
   "cell_type": "code",
   "execution_count": 44,
   "id": "4df7dea0",
   "metadata": {},
   "outputs": [
    {
     "name": "stdout",
     "output_type": "stream",
     "text": [
      "R squared value is: 76.87809841272875\n"
     ]
    }
   ],
   "source": [
    "print('R squared value is:', r2_linear)"
   ]
  },
  {
   "cell_type": "code",
   "execution_count": 45,
   "id": "bd023e91",
   "metadata": {},
   "outputs": [
    {
     "name": "stdout",
     "output_type": "stream",
     "text": [
      "5822.570581306631\n"
     ]
    }
   ],
   "source": [
    "#calculate RMSE\n",
    "rmse1 = sqrt(mean_squared_error(y_test,predict_reg))\n",
    "print(rmse1) "
   ]
  },
  {
   "cell_type": "code",
   "execution_count": 46,
   "id": "fdb3104b",
   "metadata": {},
   "outputs": [
    {
     "name": "stdout",
     "output_type": "stream",
     "text": [
      "4167.8907166945655\n"
     ]
    }
   ],
   "source": [
    "##calculate mean absolute error\n",
    "print((mean_absolute_error(y_test,predict_reg)))"
   ]
  },
  {
   "cell_type": "markdown",
   "id": "c8538c51",
   "metadata": {},
   "source": [
    "#### Building a predictive system"
   ]
  },
  {
   "cell_type": "code",
   "execution_count": 47,
   "id": "511864fa",
   "metadata": {},
   "outputs": [
    {
     "name": "stdout",
     "output_type": "stream",
     "text": [
      "[33617.99022889]\n",
      "The insurance cost is USD: [33617.99022889]\n"
     ]
    },
    {
     "name": "stderr",
     "output_type": "stream",
     "text": [
      "C:\\Users\\Anirudh\\anaconda3\\lib\\site-packages\\sklearn\\base.py:450: UserWarning: X does not have valid feature names, but LinearRegression was fitted with feature names\n",
      "  warnings.warn(\n"
     ]
    }
   ],
   "source": [
    "input_data= (37,1,37.07,1,0,1) ##37,male,37.07,1,yes,southeast,39871.7043 (orginal values)\n",
    "\n",
    "## changing input data into numpy array\n",
    "k = np.asarray(input_data)\n",
    "\n",
    "## reshape the array\n",
    "z = k.reshape(1,-1)\n",
    "\n",
    "pred = reg.predict(z)\n",
    "print(pred)\n",
    "\n",
    "print(\"The insurance cost is USD:\" , pred)"
   ]
  },
  {
   "cell_type": "code",
   "execution_count": null,
   "id": "6c2c5bec",
   "metadata": {},
   "outputs": [],
   "source": []
  },
  {
   "cell_type": "code",
   "execution_count": null,
   "id": "a832e74b",
   "metadata": {},
   "outputs": [],
   "source": []
  },
  {
   "cell_type": "markdown",
   "id": "deb76446",
   "metadata": {},
   "source": [
    "### Decision Tree Regression"
   ]
  },
  {
   "cell_type": "code",
   "execution_count": 48,
   "id": "b4671c86",
   "metadata": {},
   "outputs": [],
   "source": [
    "from sklearn.tree import DecisionTreeRegressor\n",
    "dt_reg = DecisionTreeRegressor(random_state = 42)"
   ]
  },
  {
   "cell_type": "code",
   "execution_count": 49,
   "id": "c445d96b",
   "metadata": {},
   "outputs": [
    {
     "data": {
      "text/html": [
       "<style>#sk-container-id-2 {color: black;background-color: white;}#sk-container-id-2 pre{padding: 0;}#sk-container-id-2 div.sk-toggleable {background-color: white;}#sk-container-id-2 label.sk-toggleable__label {cursor: pointer;display: block;width: 100%;margin-bottom: 0;padding: 0.3em;box-sizing: border-box;text-align: center;}#sk-container-id-2 label.sk-toggleable__label-arrow:before {content: \"▸\";float: left;margin-right: 0.25em;color: #696969;}#sk-container-id-2 label.sk-toggleable__label-arrow:hover:before {color: black;}#sk-container-id-2 div.sk-estimator:hover label.sk-toggleable__label-arrow:before {color: black;}#sk-container-id-2 div.sk-toggleable__content {max-height: 0;max-width: 0;overflow: hidden;text-align: left;background-color: #f0f8ff;}#sk-container-id-2 div.sk-toggleable__content pre {margin: 0.2em;color: black;border-radius: 0.25em;background-color: #f0f8ff;}#sk-container-id-2 input.sk-toggleable__control:checked~div.sk-toggleable__content {max-height: 200px;max-width: 100%;overflow: auto;}#sk-container-id-2 input.sk-toggleable__control:checked~label.sk-toggleable__label-arrow:before {content: \"▾\";}#sk-container-id-2 div.sk-estimator input.sk-toggleable__control:checked~label.sk-toggleable__label {background-color: #d4ebff;}#sk-container-id-2 div.sk-label input.sk-toggleable__control:checked~label.sk-toggleable__label {background-color: #d4ebff;}#sk-container-id-2 input.sk-hidden--visually {border: 0;clip: rect(1px 1px 1px 1px);clip: rect(1px, 1px, 1px, 1px);height: 1px;margin: -1px;overflow: hidden;padding: 0;position: absolute;width: 1px;}#sk-container-id-2 div.sk-estimator {font-family: monospace;background-color: #f0f8ff;border: 1px dotted black;border-radius: 0.25em;box-sizing: border-box;margin-bottom: 0.5em;}#sk-container-id-2 div.sk-estimator:hover {background-color: #d4ebff;}#sk-container-id-2 div.sk-parallel-item::after {content: \"\";width: 100%;border-bottom: 1px solid gray;flex-grow: 1;}#sk-container-id-2 div.sk-label:hover label.sk-toggleable__label {background-color: #d4ebff;}#sk-container-id-2 div.sk-serial::before {content: \"\";position: absolute;border-left: 1px solid gray;box-sizing: border-box;top: 0;bottom: 0;left: 50%;z-index: 0;}#sk-container-id-2 div.sk-serial {display: flex;flex-direction: column;align-items: center;background-color: white;padding-right: 0.2em;padding-left: 0.2em;position: relative;}#sk-container-id-2 div.sk-item {position: relative;z-index: 1;}#sk-container-id-2 div.sk-parallel {display: flex;align-items: stretch;justify-content: center;background-color: white;position: relative;}#sk-container-id-2 div.sk-item::before, #sk-container-id-2 div.sk-parallel-item::before {content: \"\";position: absolute;border-left: 1px solid gray;box-sizing: border-box;top: 0;bottom: 0;left: 50%;z-index: -1;}#sk-container-id-2 div.sk-parallel-item {display: flex;flex-direction: column;z-index: 1;position: relative;background-color: white;}#sk-container-id-2 div.sk-parallel-item:first-child::after {align-self: flex-end;width: 50%;}#sk-container-id-2 div.sk-parallel-item:last-child::after {align-self: flex-start;width: 50%;}#sk-container-id-2 div.sk-parallel-item:only-child::after {width: 0;}#sk-container-id-2 div.sk-dashed-wrapped {border: 1px dashed gray;margin: 0 0.4em 0.5em 0.4em;box-sizing: border-box;padding-bottom: 0.4em;background-color: white;}#sk-container-id-2 div.sk-label label {font-family: monospace;font-weight: bold;display: inline-block;line-height: 1.2em;}#sk-container-id-2 div.sk-label-container {text-align: center;}#sk-container-id-2 div.sk-container {/* jupyter's `normalize.less` sets `[hidden] { display: none; }` but bootstrap.min.css set `[hidden] { display: none !important; }` so we also need the `!important` here to be able to override the default hidden behavior on the sphinx rendered scikit-learn.org. See: https://github.com/scikit-learn/scikit-learn/issues/21755 */display: inline-block !important;position: relative;}#sk-container-id-2 div.sk-text-repr-fallback {display: none;}</style><div id=\"sk-container-id-2\" class=\"sk-top-container\"><div class=\"sk-text-repr-fallback\"><pre>DecisionTreeRegressor(random_state=42)</pre><b>In a Jupyter environment, please rerun this cell to show the HTML representation or trust the notebook. <br />On GitHub, the HTML representation is unable to render, please try loading this page with nbviewer.org.</b></div><div class=\"sk-container\" hidden><div class=\"sk-item\"><div class=\"sk-estimator sk-toggleable\"><input class=\"sk-toggleable__control sk-hidden--visually\" id=\"sk-estimator-id-2\" type=\"checkbox\" checked><label for=\"sk-estimator-id-2\" class=\"sk-toggleable__label sk-toggleable__label-arrow\">DecisionTreeRegressor</label><div class=\"sk-toggleable__content\"><pre>DecisionTreeRegressor(random_state=42)</pre></div></div></div></div></div>"
      ],
      "text/plain": [
       "DecisionTreeRegressor(random_state=42)"
      ]
     },
     "execution_count": 49,
     "metadata": {},
     "output_type": "execute_result"
    }
   ],
   "source": [
    "dt_reg.fit(x_train, y_train)"
   ]
  },
  {
   "cell_type": "code",
   "execution_count": 50,
   "id": "84e6e0a3",
   "metadata": {},
   "outputs": [],
   "source": [
    "dt_pred = dt_reg.predict(x_test)"
   ]
  },
  {
   "cell_type": "code",
   "execution_count": 51,
   "id": "ac688057",
   "metadata": {},
   "outputs": [],
   "source": [
    "r2_dt = r2_score(y_test,dt_pred)*100"
   ]
  },
  {
   "cell_type": "code",
   "execution_count": 52,
   "id": "dc697654",
   "metadata": {},
   "outputs": [
    {
     "data": {
      "text/plain": [
       "73.63085251507904"
      ]
     },
     "execution_count": 52,
     "metadata": {},
     "output_type": "execute_result"
    }
   ],
   "source": [
    "r2_dt"
   ]
  },
  {
   "cell_type": "code",
   "execution_count": 53,
   "id": "00157900",
   "metadata": {},
   "outputs": [
    {
     "name": "stdout",
     "output_type": "stream",
     "text": [
      "6218.00450284066\n"
     ]
    }
   ],
   "source": [
    "#calculate RMSE\n",
    "rmse2= sqrt(mean_squared_error(y_test,dt_pred))\n",
    "print(rmse2) "
   ]
  },
  {
   "cell_type": "code",
   "execution_count": 54,
   "id": "69b84de1",
   "metadata": {},
   "outputs": [
    {
     "name": "stdout",
     "output_type": "stream",
     "text": [
      "2865.0532329079606\n"
     ]
    }
   ],
   "source": [
    "##calculate mean absolute error\n",
    "print((mean_absolute_error(y_test,dt_pred)))"
   ]
  },
  {
   "cell_type": "markdown",
   "id": "1955c548",
   "metadata": {},
   "source": [
    "#### Building a predictive system"
   ]
  },
  {
   "cell_type": "code",
   "execution_count": 55,
   "id": "3aecccab",
   "metadata": {},
   "outputs": [
    {
     "name": "stdout",
     "output_type": "stream",
     "text": [
      "[39871.7043]\n",
      "The insurance cost is USD: [39871.7043]\n"
     ]
    },
    {
     "name": "stderr",
     "output_type": "stream",
     "text": [
      "C:\\Users\\Anirudh\\anaconda3\\lib\\site-packages\\sklearn\\base.py:450: UserWarning: X does not have valid feature names, but DecisionTreeRegressor was fitted with feature names\n",
      "  warnings.warn(\n"
     ]
    }
   ],
   "source": [
    "input_data= (37,1,37.07,1,0,1) ##37,male,37.07,1,yes,southeast,39871.7043 (orginal values)\n",
    "\n",
    "## changing input data into numpy array\n",
    "k = np.asarray(input_data)\n",
    "\n",
    "## reshape the array\n",
    "z = k.reshape(1,-1)\n",
    "\n",
    "pred = dt_reg.predict(z)\n",
    "print(pred)\n",
    "\n",
    "print(\"The insurance cost is USD:\" , pred)"
   ]
  },
  {
   "cell_type": "code",
   "execution_count": null,
   "id": "2088b718",
   "metadata": {},
   "outputs": [],
   "source": []
  },
  {
   "cell_type": "code",
   "execution_count": null,
   "id": "d160fdde",
   "metadata": {},
   "outputs": [],
   "source": []
  },
  {
   "cell_type": "markdown",
   "id": "77635838",
   "metadata": {},
   "source": [
    "### Support Vector Regression"
   ]
  },
  {
   "cell_type": "code",
   "execution_count": 56,
   "id": "71dbe26e",
   "metadata": {},
   "outputs": [],
   "source": [
    "from sklearn.svm import SVR\n",
    "sv_reg = SVR(kernel = 'rbf')\n"
   ]
  },
  {
   "cell_type": "code",
   "execution_count": 57,
   "id": "cece47de",
   "metadata": {},
   "outputs": [
    {
     "data": {
      "text/html": [
       "<style>#sk-container-id-3 {color: black;background-color: white;}#sk-container-id-3 pre{padding: 0;}#sk-container-id-3 div.sk-toggleable {background-color: white;}#sk-container-id-3 label.sk-toggleable__label {cursor: pointer;display: block;width: 100%;margin-bottom: 0;padding: 0.3em;box-sizing: border-box;text-align: center;}#sk-container-id-3 label.sk-toggleable__label-arrow:before {content: \"▸\";float: left;margin-right: 0.25em;color: #696969;}#sk-container-id-3 label.sk-toggleable__label-arrow:hover:before {color: black;}#sk-container-id-3 div.sk-estimator:hover label.sk-toggleable__label-arrow:before {color: black;}#sk-container-id-3 div.sk-toggleable__content {max-height: 0;max-width: 0;overflow: hidden;text-align: left;background-color: #f0f8ff;}#sk-container-id-3 div.sk-toggleable__content pre {margin: 0.2em;color: black;border-radius: 0.25em;background-color: #f0f8ff;}#sk-container-id-3 input.sk-toggleable__control:checked~div.sk-toggleable__content {max-height: 200px;max-width: 100%;overflow: auto;}#sk-container-id-3 input.sk-toggleable__control:checked~label.sk-toggleable__label-arrow:before {content: \"▾\";}#sk-container-id-3 div.sk-estimator input.sk-toggleable__control:checked~label.sk-toggleable__label {background-color: #d4ebff;}#sk-container-id-3 div.sk-label input.sk-toggleable__control:checked~label.sk-toggleable__label {background-color: #d4ebff;}#sk-container-id-3 input.sk-hidden--visually {border: 0;clip: rect(1px 1px 1px 1px);clip: rect(1px, 1px, 1px, 1px);height: 1px;margin: -1px;overflow: hidden;padding: 0;position: absolute;width: 1px;}#sk-container-id-3 div.sk-estimator {font-family: monospace;background-color: #f0f8ff;border: 1px dotted black;border-radius: 0.25em;box-sizing: border-box;margin-bottom: 0.5em;}#sk-container-id-3 div.sk-estimator:hover {background-color: #d4ebff;}#sk-container-id-3 div.sk-parallel-item::after {content: \"\";width: 100%;border-bottom: 1px solid gray;flex-grow: 1;}#sk-container-id-3 div.sk-label:hover label.sk-toggleable__label {background-color: #d4ebff;}#sk-container-id-3 div.sk-serial::before {content: \"\";position: absolute;border-left: 1px solid gray;box-sizing: border-box;top: 0;bottom: 0;left: 50%;z-index: 0;}#sk-container-id-3 div.sk-serial {display: flex;flex-direction: column;align-items: center;background-color: white;padding-right: 0.2em;padding-left: 0.2em;position: relative;}#sk-container-id-3 div.sk-item {position: relative;z-index: 1;}#sk-container-id-3 div.sk-parallel {display: flex;align-items: stretch;justify-content: center;background-color: white;position: relative;}#sk-container-id-3 div.sk-item::before, #sk-container-id-3 div.sk-parallel-item::before {content: \"\";position: absolute;border-left: 1px solid gray;box-sizing: border-box;top: 0;bottom: 0;left: 50%;z-index: -1;}#sk-container-id-3 div.sk-parallel-item {display: flex;flex-direction: column;z-index: 1;position: relative;background-color: white;}#sk-container-id-3 div.sk-parallel-item:first-child::after {align-self: flex-end;width: 50%;}#sk-container-id-3 div.sk-parallel-item:last-child::after {align-self: flex-start;width: 50%;}#sk-container-id-3 div.sk-parallel-item:only-child::after {width: 0;}#sk-container-id-3 div.sk-dashed-wrapped {border: 1px dashed gray;margin: 0 0.4em 0.5em 0.4em;box-sizing: border-box;padding-bottom: 0.4em;background-color: white;}#sk-container-id-3 div.sk-label label {font-family: monospace;font-weight: bold;display: inline-block;line-height: 1.2em;}#sk-container-id-3 div.sk-label-container {text-align: center;}#sk-container-id-3 div.sk-container {/* jupyter's `normalize.less` sets `[hidden] { display: none; }` but bootstrap.min.css set `[hidden] { display: none !important; }` so we also need the `!important` here to be able to override the default hidden behavior on the sphinx rendered scikit-learn.org. See: https://github.com/scikit-learn/scikit-learn/issues/21755 */display: inline-block !important;position: relative;}#sk-container-id-3 div.sk-text-repr-fallback {display: none;}</style><div id=\"sk-container-id-3\" class=\"sk-top-container\"><div class=\"sk-text-repr-fallback\"><pre>SVR()</pre><b>In a Jupyter environment, please rerun this cell to show the HTML representation or trust the notebook. <br />On GitHub, the HTML representation is unable to render, please try loading this page with nbviewer.org.</b></div><div class=\"sk-container\" hidden><div class=\"sk-item\"><div class=\"sk-estimator sk-toggleable\"><input class=\"sk-toggleable__control sk-hidden--visually\" id=\"sk-estimator-id-3\" type=\"checkbox\" checked><label for=\"sk-estimator-id-3\" class=\"sk-toggleable__label sk-toggleable__label-arrow\">SVR</label><div class=\"sk-toggleable__content\"><pre>SVR()</pre></div></div></div></div></div>"
      ],
      "text/plain": [
       "SVR()"
      ]
     },
     "execution_count": 57,
     "metadata": {},
     "output_type": "execute_result"
    }
   ],
   "source": [
    "sv_reg.fit(x_train, y_train)"
   ]
  },
  {
   "cell_type": "code",
   "execution_count": 58,
   "id": "45b845cd",
   "metadata": {},
   "outputs": [],
   "source": [
    "sv_pred= sv_reg.predict(x_test)"
   ]
  },
  {
   "cell_type": "code",
   "execution_count": 59,
   "id": "5a472f4d",
   "metadata": {},
   "outputs": [],
   "source": [
    "r2_sv = r2_score(y_test,sv_pred)*100"
   ]
  },
  {
   "cell_type": "code",
   "execution_count": 60,
   "id": "93bbf526",
   "metadata": {},
   "outputs": [
    {
     "data": {
      "text/plain": [
       "-8.171732524856367"
      ]
     },
     "execution_count": 60,
     "metadata": {},
     "output_type": "execute_result"
    }
   ],
   "source": [
    "r2_sv"
   ]
  },
  {
   "cell_type": "markdown",
   "id": "eadaae49",
   "metadata": {},
   "source": [
    "##### If the chosen model fits worse than a horizontal line, then R2 is negative.R2 is negative only when the chosen model does not follow the trend of the data, so fits worse than a horizontal line."
   ]
  },
  {
   "cell_type": "code",
   "execution_count": 61,
   "id": "89e72562",
   "metadata": {},
   "outputs": [
    {
     "name": "stdout",
     "output_type": "stream",
     "text": [
      "12593.889556116328\n"
     ]
    }
   ],
   "source": [
    "#calculate RMSE\n",
    "rmse3= sqrt(mean_squared_error(y_test,sv_pred))\n",
    "print(rmse3) "
   ]
  },
  {
   "cell_type": "code",
   "execution_count": 62,
   "id": "b8a8e9a2",
   "metadata": {},
   "outputs": [
    {
     "name": "stdout",
     "output_type": "stream",
     "text": [
      "8229.893370985028\n"
     ]
    }
   ],
   "source": [
    "##calculate mean absolute error\n",
    "print((mean_absolute_error(y_test,sv_pred)))"
   ]
  },
  {
   "cell_type": "code",
   "execution_count": null,
   "id": "a4f9a111",
   "metadata": {},
   "outputs": [],
   "source": []
  },
  {
   "cell_type": "markdown",
   "id": "fd0cdb93",
   "metadata": {},
   "source": [
    "### Random Forest Regression"
   ]
  },
  {
   "cell_type": "code",
   "execution_count": 63,
   "id": "ed19bd99",
   "metadata": {},
   "outputs": [],
   "source": [
    "from sklearn.ensemble import RandomForestRegressor\n",
    "rf_reg = RandomForestRegressor(n_estimators = 100, random_state = 42)"
   ]
  },
  {
   "cell_type": "code",
   "execution_count": 64,
   "id": "aa797e73",
   "metadata": {},
   "outputs": [
    {
     "data": {
      "text/html": [
       "<style>#sk-container-id-4 {color: black;background-color: white;}#sk-container-id-4 pre{padding: 0;}#sk-container-id-4 div.sk-toggleable {background-color: white;}#sk-container-id-4 label.sk-toggleable__label {cursor: pointer;display: block;width: 100%;margin-bottom: 0;padding: 0.3em;box-sizing: border-box;text-align: center;}#sk-container-id-4 label.sk-toggleable__label-arrow:before {content: \"▸\";float: left;margin-right: 0.25em;color: #696969;}#sk-container-id-4 label.sk-toggleable__label-arrow:hover:before {color: black;}#sk-container-id-4 div.sk-estimator:hover label.sk-toggleable__label-arrow:before {color: black;}#sk-container-id-4 div.sk-toggleable__content {max-height: 0;max-width: 0;overflow: hidden;text-align: left;background-color: #f0f8ff;}#sk-container-id-4 div.sk-toggleable__content pre {margin: 0.2em;color: black;border-radius: 0.25em;background-color: #f0f8ff;}#sk-container-id-4 input.sk-toggleable__control:checked~div.sk-toggleable__content {max-height: 200px;max-width: 100%;overflow: auto;}#sk-container-id-4 input.sk-toggleable__control:checked~label.sk-toggleable__label-arrow:before {content: \"▾\";}#sk-container-id-4 div.sk-estimator input.sk-toggleable__control:checked~label.sk-toggleable__label {background-color: #d4ebff;}#sk-container-id-4 div.sk-label input.sk-toggleable__control:checked~label.sk-toggleable__label {background-color: #d4ebff;}#sk-container-id-4 input.sk-hidden--visually {border: 0;clip: rect(1px 1px 1px 1px);clip: rect(1px, 1px, 1px, 1px);height: 1px;margin: -1px;overflow: hidden;padding: 0;position: absolute;width: 1px;}#sk-container-id-4 div.sk-estimator {font-family: monospace;background-color: #f0f8ff;border: 1px dotted black;border-radius: 0.25em;box-sizing: border-box;margin-bottom: 0.5em;}#sk-container-id-4 div.sk-estimator:hover {background-color: #d4ebff;}#sk-container-id-4 div.sk-parallel-item::after {content: \"\";width: 100%;border-bottom: 1px solid gray;flex-grow: 1;}#sk-container-id-4 div.sk-label:hover label.sk-toggleable__label {background-color: #d4ebff;}#sk-container-id-4 div.sk-serial::before {content: \"\";position: absolute;border-left: 1px solid gray;box-sizing: border-box;top: 0;bottom: 0;left: 50%;z-index: 0;}#sk-container-id-4 div.sk-serial {display: flex;flex-direction: column;align-items: center;background-color: white;padding-right: 0.2em;padding-left: 0.2em;position: relative;}#sk-container-id-4 div.sk-item {position: relative;z-index: 1;}#sk-container-id-4 div.sk-parallel {display: flex;align-items: stretch;justify-content: center;background-color: white;position: relative;}#sk-container-id-4 div.sk-item::before, #sk-container-id-4 div.sk-parallel-item::before {content: \"\";position: absolute;border-left: 1px solid gray;box-sizing: border-box;top: 0;bottom: 0;left: 50%;z-index: -1;}#sk-container-id-4 div.sk-parallel-item {display: flex;flex-direction: column;z-index: 1;position: relative;background-color: white;}#sk-container-id-4 div.sk-parallel-item:first-child::after {align-self: flex-end;width: 50%;}#sk-container-id-4 div.sk-parallel-item:last-child::after {align-self: flex-start;width: 50%;}#sk-container-id-4 div.sk-parallel-item:only-child::after {width: 0;}#sk-container-id-4 div.sk-dashed-wrapped {border: 1px dashed gray;margin: 0 0.4em 0.5em 0.4em;box-sizing: border-box;padding-bottom: 0.4em;background-color: white;}#sk-container-id-4 div.sk-label label {font-family: monospace;font-weight: bold;display: inline-block;line-height: 1.2em;}#sk-container-id-4 div.sk-label-container {text-align: center;}#sk-container-id-4 div.sk-container {/* jupyter's `normalize.less` sets `[hidden] { display: none; }` but bootstrap.min.css set `[hidden] { display: none !important; }` so we also need the `!important` here to be able to override the default hidden behavior on the sphinx rendered scikit-learn.org. See: https://github.com/scikit-learn/scikit-learn/issues/21755 */display: inline-block !important;position: relative;}#sk-container-id-4 div.sk-text-repr-fallback {display: none;}</style><div id=\"sk-container-id-4\" class=\"sk-top-container\"><div class=\"sk-text-repr-fallback\"><pre>RandomForestRegressor(random_state=42)</pre><b>In a Jupyter environment, please rerun this cell to show the HTML representation or trust the notebook. <br />On GitHub, the HTML representation is unable to render, please try loading this page with nbviewer.org.</b></div><div class=\"sk-container\" hidden><div class=\"sk-item\"><div class=\"sk-estimator sk-toggleable\"><input class=\"sk-toggleable__control sk-hidden--visually\" id=\"sk-estimator-id-4\" type=\"checkbox\" checked><label for=\"sk-estimator-id-4\" class=\"sk-toggleable__label sk-toggleable__label-arrow\">RandomForestRegressor</label><div class=\"sk-toggleable__content\"><pre>RandomForestRegressor(random_state=42)</pre></div></div></div></div></div>"
      ],
      "text/plain": [
       "RandomForestRegressor(random_state=42)"
      ]
     },
     "execution_count": 64,
     "metadata": {},
     "output_type": "execute_result"
    }
   ],
   "source": [
    "rf_reg.fit(x_train, y_train)"
   ]
  },
  {
   "cell_type": "code",
   "execution_count": 65,
   "id": "dbfcfe47",
   "metadata": {},
   "outputs": [],
   "source": [
    "rf_pred = rf_reg.predict(x_test)"
   ]
  },
  {
   "cell_type": "code",
   "execution_count": 66,
   "id": "dfe63ea1",
   "metadata": {},
   "outputs": [],
   "source": [
    "r2_rf = r2_score(y_test,rf_pred)*100"
   ]
  },
  {
   "cell_type": "code",
   "execution_count": 67,
   "id": "a14b3408",
   "metadata": {},
   "outputs": [
    {
     "data": {
      "text/plain": [
       "85.29232480853832"
      ]
     },
     "execution_count": 67,
     "metadata": {},
     "output_type": "execute_result"
    }
   ],
   "source": [
    "r2_rf"
   ]
  },
  {
   "cell_type": "code",
   "execution_count": 68,
   "id": "f7288254",
   "metadata": {},
   "outputs": [
    {
     "name": "stdout",
     "output_type": "stream",
     "text": [
      "4643.8159908416665\n"
     ]
    }
   ],
   "source": [
    "#calculate RMSE\n",
    "rmse4=sqrt(mean_squared_error(y_test,rf_pred))\n",
    "print(rmse4) "
   ]
  },
  {
   "cell_type": "code",
   "execution_count": 69,
   "id": "aee65ef5",
   "metadata": {},
   "outputs": [
    {
     "name": "stdout",
     "output_type": "stream",
     "text": [
      "2571.222112483334\n"
     ]
    }
   ],
   "source": [
    "##calculate mean absolute error\n",
    "print((mean_absolute_error(y_test,rf_pred)))"
   ]
  },
  {
   "cell_type": "markdown",
   "id": "ac4ba914",
   "metadata": {},
   "source": [
    "#### Building A Predictive System"
   ]
  },
  {
   "cell_type": "code",
   "execution_count": 70,
   "id": "e5fcdefe",
   "metadata": {},
   "outputs": [
    {
     "name": "stdout",
     "output_type": "stream",
     "text": [
      "[40128.2942121]\n",
      "The insurance cost is USD: [40128.2942121]\n"
     ]
    },
    {
     "name": "stderr",
     "output_type": "stream",
     "text": [
      "C:\\Users\\Anirudh\\anaconda3\\lib\\site-packages\\sklearn\\base.py:450: UserWarning: X does not have valid feature names, but RandomForestRegressor was fitted with feature names\n",
      "  warnings.warn(\n"
     ]
    }
   ],
   "source": [
    "input_data= (37,1,37.07,1,0,1) ##37,male,37.07,1,yes,southeast,39871.7043 (orginal values)\n",
    "\n",
    "## changing input data into numpy array\n",
    "k = np.asarray(input_data)\n",
    "\n",
    "## reshape the array\n",
    "z = k.reshape(1,-1)\n",
    "\n",
    "pred = rf_reg.predict(z)\n",
    "print(pred)\n",
    "\n",
    "print(\"The insurance cost is USD:\" , pred)"
   ]
  },
  {
   "cell_type": "code",
   "execution_count": null,
   "id": "45f03917",
   "metadata": {},
   "outputs": [],
   "source": []
  },
  {
   "cell_type": "code",
   "execution_count": null,
   "id": "da6cc198",
   "metadata": {},
   "outputs": [],
   "source": []
  },
  {
   "cell_type": "markdown",
   "id": "cc006d56",
   "metadata": {},
   "source": [
    "#### XGBoost"
   ]
  },
  {
   "cell_type": "code",
   "execution_count": 71,
   "id": "c5024416",
   "metadata": {},
   "outputs": [],
   "source": [
    "import xgboost as xg\n",
    "xgb_r = xg.XGBRegressor()"
   ]
  },
  {
   "cell_type": "code",
   "execution_count": 72,
   "id": "5524be71",
   "metadata": {},
   "outputs": [
    {
     "data": {
      "text/html": [
       "<style>#sk-container-id-5 {color: black;background-color: white;}#sk-container-id-5 pre{padding: 0;}#sk-container-id-5 div.sk-toggleable {background-color: white;}#sk-container-id-5 label.sk-toggleable__label {cursor: pointer;display: block;width: 100%;margin-bottom: 0;padding: 0.3em;box-sizing: border-box;text-align: center;}#sk-container-id-5 label.sk-toggleable__label-arrow:before {content: \"▸\";float: left;margin-right: 0.25em;color: #696969;}#sk-container-id-5 label.sk-toggleable__label-arrow:hover:before {color: black;}#sk-container-id-5 div.sk-estimator:hover label.sk-toggleable__label-arrow:before {color: black;}#sk-container-id-5 div.sk-toggleable__content {max-height: 0;max-width: 0;overflow: hidden;text-align: left;background-color: #f0f8ff;}#sk-container-id-5 div.sk-toggleable__content pre {margin: 0.2em;color: black;border-radius: 0.25em;background-color: #f0f8ff;}#sk-container-id-5 input.sk-toggleable__control:checked~div.sk-toggleable__content {max-height: 200px;max-width: 100%;overflow: auto;}#sk-container-id-5 input.sk-toggleable__control:checked~label.sk-toggleable__label-arrow:before {content: \"▾\";}#sk-container-id-5 div.sk-estimator input.sk-toggleable__control:checked~label.sk-toggleable__label {background-color: #d4ebff;}#sk-container-id-5 div.sk-label input.sk-toggleable__control:checked~label.sk-toggleable__label {background-color: #d4ebff;}#sk-container-id-5 input.sk-hidden--visually {border: 0;clip: rect(1px 1px 1px 1px);clip: rect(1px, 1px, 1px, 1px);height: 1px;margin: -1px;overflow: hidden;padding: 0;position: absolute;width: 1px;}#sk-container-id-5 div.sk-estimator {font-family: monospace;background-color: #f0f8ff;border: 1px dotted black;border-radius: 0.25em;box-sizing: border-box;margin-bottom: 0.5em;}#sk-container-id-5 div.sk-estimator:hover {background-color: #d4ebff;}#sk-container-id-5 div.sk-parallel-item::after {content: \"\";width: 100%;border-bottom: 1px solid gray;flex-grow: 1;}#sk-container-id-5 div.sk-label:hover label.sk-toggleable__label {background-color: #d4ebff;}#sk-container-id-5 div.sk-serial::before {content: \"\";position: absolute;border-left: 1px solid gray;box-sizing: border-box;top: 0;bottom: 0;left: 50%;z-index: 0;}#sk-container-id-5 div.sk-serial {display: flex;flex-direction: column;align-items: center;background-color: white;padding-right: 0.2em;padding-left: 0.2em;position: relative;}#sk-container-id-5 div.sk-item {position: relative;z-index: 1;}#sk-container-id-5 div.sk-parallel {display: flex;align-items: stretch;justify-content: center;background-color: white;position: relative;}#sk-container-id-5 div.sk-item::before, #sk-container-id-5 div.sk-parallel-item::before {content: \"\";position: absolute;border-left: 1px solid gray;box-sizing: border-box;top: 0;bottom: 0;left: 50%;z-index: -1;}#sk-container-id-5 div.sk-parallel-item {display: flex;flex-direction: column;z-index: 1;position: relative;background-color: white;}#sk-container-id-5 div.sk-parallel-item:first-child::after {align-self: flex-end;width: 50%;}#sk-container-id-5 div.sk-parallel-item:last-child::after {align-self: flex-start;width: 50%;}#sk-container-id-5 div.sk-parallel-item:only-child::after {width: 0;}#sk-container-id-5 div.sk-dashed-wrapped {border: 1px dashed gray;margin: 0 0.4em 0.5em 0.4em;box-sizing: border-box;padding-bottom: 0.4em;background-color: white;}#sk-container-id-5 div.sk-label label {font-family: monospace;font-weight: bold;display: inline-block;line-height: 1.2em;}#sk-container-id-5 div.sk-label-container {text-align: center;}#sk-container-id-5 div.sk-container {/* jupyter's `normalize.less` sets `[hidden] { display: none; }` but bootstrap.min.css set `[hidden] { display: none !important; }` so we also need the `!important` here to be able to override the default hidden behavior on the sphinx rendered scikit-learn.org. See: https://github.com/scikit-learn/scikit-learn/issues/21755 */display: inline-block !important;position: relative;}#sk-container-id-5 div.sk-text-repr-fallback {display: none;}</style><div id=\"sk-container-id-5\" class=\"sk-top-container\"><div class=\"sk-text-repr-fallback\"><pre>XGBRegressor(base_score=0.5, booster=&#x27;gbtree&#x27;, callbacks=None,\n",
       "             colsample_bylevel=1, colsample_bynode=1, colsample_bytree=1,\n",
       "             early_stopping_rounds=None, enable_categorical=False,\n",
       "             eval_metric=None, gamma=0, gpu_id=-1, grow_policy=&#x27;depthwise&#x27;,\n",
       "             importance_type=None, interaction_constraints=&#x27;&#x27;,\n",
       "             learning_rate=0.300000012, max_bin=256, max_cat_to_onehot=4,\n",
       "             max_delta_step=0, max_depth=6, max_leaves=0, min_child_weight=1,\n",
       "             missing=nan, monotone_constraints=&#x27;()&#x27;, n_estimators=100, n_jobs=0,\n",
       "             num_parallel_tree=1, predictor=&#x27;auto&#x27;, random_state=0, reg_alpha=0,\n",
       "             reg_lambda=1, ...)</pre><b>In a Jupyter environment, please rerun this cell to show the HTML representation or trust the notebook. <br />On GitHub, the HTML representation is unable to render, please try loading this page with nbviewer.org.</b></div><div class=\"sk-container\" hidden><div class=\"sk-item\"><div class=\"sk-estimator sk-toggleable\"><input class=\"sk-toggleable__control sk-hidden--visually\" id=\"sk-estimator-id-5\" type=\"checkbox\" checked><label for=\"sk-estimator-id-5\" class=\"sk-toggleable__label sk-toggleable__label-arrow\">XGBRegressor</label><div class=\"sk-toggleable__content\"><pre>XGBRegressor(base_score=0.5, booster=&#x27;gbtree&#x27;, callbacks=None,\n",
       "             colsample_bylevel=1, colsample_bynode=1, colsample_bytree=1,\n",
       "             early_stopping_rounds=None, enable_categorical=False,\n",
       "             eval_metric=None, gamma=0, gpu_id=-1, grow_policy=&#x27;depthwise&#x27;,\n",
       "             importance_type=None, interaction_constraints=&#x27;&#x27;,\n",
       "             learning_rate=0.300000012, max_bin=256, max_cat_to_onehot=4,\n",
       "             max_delta_step=0, max_depth=6, max_leaves=0, min_child_weight=1,\n",
       "             missing=nan, monotone_constraints=&#x27;()&#x27;, n_estimators=100, n_jobs=0,\n",
       "             num_parallel_tree=1, predictor=&#x27;auto&#x27;, random_state=0, reg_alpha=0,\n",
       "             reg_lambda=1, ...)</pre></div></div></div></div></div>"
      ],
      "text/plain": [
       "XGBRegressor(base_score=0.5, booster='gbtree', callbacks=None,\n",
       "             colsample_bylevel=1, colsample_bynode=1, colsample_bytree=1,\n",
       "             early_stopping_rounds=None, enable_categorical=False,\n",
       "             eval_metric=None, gamma=0, gpu_id=-1, grow_policy='depthwise',\n",
       "             importance_type=None, interaction_constraints='',\n",
       "             learning_rate=0.300000012, max_bin=256, max_cat_to_onehot=4,\n",
       "             max_delta_step=0, max_depth=6, max_leaves=0, min_child_weight=1,\n",
       "             missing=nan, monotone_constraints='()', n_estimators=100, n_jobs=0,\n",
       "             num_parallel_tree=1, predictor='auto', random_state=0, reg_alpha=0,\n",
       "             reg_lambda=1, ...)"
      ]
     },
     "execution_count": 72,
     "metadata": {},
     "output_type": "execute_result"
    }
   ],
   "source": [
    "xgb_r.fit(x_train, y_train)"
   ]
  },
  {
   "cell_type": "code",
   "execution_count": 73,
   "id": "ef4167c2",
   "metadata": {},
   "outputs": [],
   "source": [
    "pred_xgb = xgb_r.predict(x_test)"
   ]
  },
  {
   "cell_type": "code",
   "execution_count": 74,
   "id": "dc103a21",
   "metadata": {},
   "outputs": [],
   "source": [
    "r2_xgb = r2_score(y_test, pred_xgb)*100"
   ]
  },
  {
   "cell_type": "code",
   "execution_count": 75,
   "id": "f8b444e0",
   "metadata": {},
   "outputs": [
    {
     "data": {
      "text/plain": [
       "81.88915026072833"
      ]
     },
     "execution_count": 75,
     "metadata": {},
     "output_type": "execute_result"
    }
   ],
   "source": [
    "r2_xgb"
   ]
  },
  {
   "cell_type": "code",
   "execution_count": 76,
   "id": "c9494bd9",
   "metadata": {},
   "outputs": [
    {
     "name": "stdout",
     "output_type": "stream",
     "text": [
      "5153.1454553459125\n"
     ]
    }
   ],
   "source": [
    "#calculate RMSE\n",
    "rmse5= sqrt(mean_squared_error(y_test,pred_xgb))\n",
    "print(rmse5) "
   ]
  },
  {
   "cell_type": "code",
   "execution_count": 77,
   "id": "07a21798",
   "metadata": {},
   "outputs": [
    {
     "name": "stdout",
     "output_type": "stream",
     "text": [
      "2880.2030741624053\n"
     ]
    }
   ],
   "source": [
    "##calculate mean absolute error\n",
    "print((mean_absolute_error(y_test,pred_xgb)))"
   ]
  },
  {
   "cell_type": "markdown",
   "id": "de6e71ea",
   "metadata": {},
   "source": [
    "#### Building a predictive system"
   ]
  },
  {
   "cell_type": "code",
   "execution_count": 78,
   "id": "dd158629",
   "metadata": {},
   "outputs": [
    {
     "name": "stdout",
     "output_type": "stream",
     "text": [
      "[40197.76]\n",
      "The insurance cost is USD: [40197.76]\n"
     ]
    }
   ],
   "source": [
    "input_data= (37,1,37.07,1,0,1) ##37,male,37.07,1,yes,southeast,39871.7043\n",
    "\n",
    "## changing input data into numpy array\n",
    "k = np.asarray(input_data)\n",
    "\n",
    "## reshape the array\n",
    "z = k.reshape(1,-1)\n",
    "\n",
    "pred = xgb_r.predict(z)\n",
    "print(pred)\n",
    "\n",
    "print(\"The insurance cost is USD:\" , pred)"
   ]
  },
  {
   "cell_type": "code",
   "execution_count": null,
   "id": "b10eb5a9",
   "metadata": {},
   "outputs": [],
   "source": []
  },
  {
   "cell_type": "code",
   "execution_count": null,
   "id": "568b527d",
   "metadata": {},
   "outputs": [],
   "source": []
  },
  {
   "cell_type": "markdown",
   "id": "7a56ae34",
   "metadata": {},
   "source": [
    "### CatBoost"
   ]
  },
  {
   "cell_type": "code",
   "execution_count": 79,
   "id": "4d7d61d9",
   "metadata": {},
   "outputs": [],
   "source": [
    "from catboost import CatBoostRegressor\n",
    "cat_reg = CatBoostRegressor()"
   ]
  },
  {
   "cell_type": "code",
   "execution_count": 80,
   "id": "82945319",
   "metadata": {},
   "outputs": [
    {
     "name": "stdout",
     "output_type": "stream",
     "text": [
      "Learning rate set to 0.040517\n",
      "0:\tlearn: 11777.3162658\ttotal: 145ms\tremaining: 2m 25s\n",
      "1:\tlearn: 11437.5588501\ttotal: 148ms\tremaining: 1m 13s\n",
      "2:\tlearn: 11113.3281037\ttotal: 149ms\tremaining: 49.6s\n",
      "3:\tlearn: 10809.0513257\ttotal: 154ms\tremaining: 38.3s\n",
      "4:\tlearn: 10492.2910630\ttotal: 157ms\tremaining: 31.2s\n",
      "5:\tlearn: 10193.9556890\ttotal: 159ms\tremaining: 26.4s\n",
      "6:\tlearn: 9924.4247236\ttotal: 162ms\tremaining: 22.9s\n",
      "7:\tlearn: 9663.1297942\ttotal: 164ms\tremaining: 20.3s\n",
      "8:\tlearn: 9406.9784182\ttotal: 166ms\tremaining: 18.3s\n",
      "9:\tlearn: 9173.3373065\ttotal: 169ms\tremaining: 16.7s\n",
      "10:\tlearn: 8964.4392608\ttotal: 170ms\tremaining: 15.3s\n",
      "11:\tlearn: 8739.0518908\ttotal: 173ms\tremaining: 14.2s\n",
      "12:\tlearn: 8537.9656713\ttotal: 175ms\tremaining: 13.3s\n",
      "13:\tlearn: 8338.1534717\ttotal: 178ms\tremaining: 12.5s\n",
      "14:\tlearn: 8138.5027080\ttotal: 180ms\tremaining: 11.8s\n",
      "15:\tlearn: 7940.3995664\ttotal: 182ms\tremaining: 11.2s\n",
      "16:\tlearn: 7755.3081348\ttotal: 184ms\tremaining: 10.7s\n",
      "17:\tlearn: 7621.2264896\ttotal: 185ms\tremaining: 10.1s\n",
      "18:\tlearn: 7466.1608155\ttotal: 188ms\tremaining: 9.68s\n",
      "19:\tlearn: 7302.1333735\ttotal: 189ms\tremaining: 9.28s\n",
      "20:\tlearn: 7163.6109496\ttotal: 192ms\tremaining: 8.94s\n",
      "21:\tlearn: 7012.5668226\ttotal: 194ms\tremaining: 8.61s\n",
      "22:\tlearn: 6910.7311242\ttotal: 194ms\tremaining: 8.26s\n",
      "23:\tlearn: 6777.0791558\ttotal: 197ms\tremaining: 8s\n",
      "24:\tlearn: 6654.6732416\ttotal: 200ms\tremaining: 7.81s\n",
      "25:\tlearn: 6533.7421555\ttotal: 203ms\tremaining: 7.59s\n",
      "26:\tlearn: 6425.7397813\ttotal: 205ms\tremaining: 7.37s\n",
      "27:\tlearn: 6317.5156827\ttotal: 206ms\tremaining: 7.15s\n",
      "28:\tlearn: 6207.6943941\ttotal: 209ms\tremaining: 6.98s\n",
      "29:\tlearn: 6110.4115441\ttotal: 211ms\tremaining: 6.82s\n",
      "30:\tlearn: 6013.8921465\ttotal: 214ms\tremaining: 6.67s\n",
      "31:\tlearn: 5925.9846240\ttotal: 216ms\tremaining: 6.53s\n",
      "32:\tlearn: 5839.3649680\ttotal: 218ms\tremaining: 6.4s\n",
      "33:\tlearn: 5752.6931957\ttotal: 221ms\tremaining: 6.27s\n",
      "34:\tlearn: 5683.4834299\ttotal: 223ms\tremaining: 6.16s\n",
      "35:\tlearn: 5612.1557768\ttotal: 226ms\tremaining: 6.04s\n",
      "36:\tlearn: 5549.1593414\ttotal: 228ms\tremaining: 5.93s\n",
      "37:\tlearn: 5484.3614795\ttotal: 230ms\tremaining: 5.83s\n",
      "38:\tlearn: 5423.4003732\ttotal: 233ms\tremaining: 5.74s\n",
      "39:\tlearn: 5372.5655939\ttotal: 235ms\tremaining: 5.64s\n",
      "40:\tlearn: 5312.4237114\ttotal: 237ms\tremaining: 5.55s\n",
      "41:\tlearn: 5260.6164131\ttotal: 240ms\tremaining: 5.47s\n",
      "42:\tlearn: 5210.6643783\ttotal: 242ms\tremaining: 5.39s\n",
      "43:\tlearn: 5161.3083655\ttotal: 244ms\tremaining: 5.31s\n",
      "44:\tlearn: 5118.8943941\ttotal: 247ms\tremaining: 5.23s\n",
      "45:\tlearn: 5079.9773039\ttotal: 248ms\tremaining: 5.13s\n",
      "46:\tlearn: 5047.6076217\ttotal: 250ms\tremaining: 5.06s\n",
      "47:\tlearn: 5008.6061396\ttotal: 252ms\tremaining: 5s\n",
      "48:\tlearn: 4972.9531876\ttotal: 255ms\tremaining: 4.94s\n",
      "49:\tlearn: 4934.2201788\ttotal: 257ms\tremaining: 4.88s\n",
      "50:\tlearn: 4900.4857087\ttotal: 259ms\tremaining: 4.82s\n",
      "51:\tlearn: 4864.0203837\ttotal: 262ms\tremaining: 4.77s\n",
      "52:\tlearn: 4833.6883315\ttotal: 264ms\tremaining: 4.72s\n",
      "53:\tlearn: 4804.2034098\ttotal: 268ms\tremaining: 4.69s\n",
      "54:\tlearn: 4779.4525883\ttotal: 270ms\tremaining: 4.64s\n",
      "55:\tlearn: 4756.5342165\ttotal: 272ms\tremaining: 4.59s\n",
      "56:\tlearn: 4730.0782139\ttotal: 275ms\tremaining: 4.55s\n",
      "57:\tlearn: 4706.2772475\ttotal: 277ms\tremaining: 4.5s\n",
      "58:\tlearn: 4679.1914055\ttotal: 280ms\tremaining: 4.46s\n",
      "59:\tlearn: 4663.7498442\ttotal: 282ms\tremaining: 4.42s\n",
      "60:\tlearn: 4643.0050989\ttotal: 285ms\tremaining: 4.38s\n",
      "61:\tlearn: 4622.2128933\ttotal: 288ms\tremaining: 4.35s\n",
      "62:\tlearn: 4604.5083269\ttotal: 290ms\tremaining: 4.31s\n",
      "63:\tlearn: 4590.8591409\ttotal: 291ms\tremaining: 4.25s\n",
      "64:\tlearn: 4574.6544523\ttotal: 293ms\tremaining: 4.21s\n",
      "65:\tlearn: 4560.4364409\ttotal: 298ms\tremaining: 4.22s\n",
      "66:\tlearn: 4546.9938315\ttotal: 301ms\tremaining: 4.19s\n",
      "67:\tlearn: 4534.1055103\ttotal: 304ms\tremaining: 4.16s\n",
      "68:\tlearn: 4524.4181802\ttotal: 305ms\tremaining: 4.11s\n",
      "69:\tlearn: 4510.4906059\ttotal: 307ms\tremaining: 4.08s\n",
      "70:\tlearn: 4493.3480366\ttotal: 312ms\tremaining: 4.08s\n",
      "71:\tlearn: 4478.1745973\ttotal: 315ms\tremaining: 4.06s\n",
      "72:\tlearn: 4463.7896938\ttotal: 317ms\tremaining: 4.03s\n",
      "73:\tlearn: 4452.6081675\ttotal: 320ms\tremaining: 4s\n",
      "74:\tlearn: 4445.8872549\ttotal: 321ms\tremaining: 3.96s\n",
      "75:\tlearn: 4433.0467057\ttotal: 326ms\tremaining: 3.96s\n",
      "76:\tlearn: 4422.1792160\ttotal: 328ms\tremaining: 3.94s\n",
      "77:\tlearn: 4409.4854848\ttotal: 331ms\tremaining: 3.91s\n",
      "78:\tlearn: 4404.5299171\ttotal: 332ms\tremaining: 3.87s\n",
      "79:\tlearn: 4394.5850262\ttotal: 335ms\tremaining: 3.85s\n",
      "80:\tlearn: 4380.9208940\ttotal: 338ms\tremaining: 3.84s\n",
      "81:\tlearn: 4373.2957895\ttotal: 342ms\tremaining: 3.82s\n",
      "82:\tlearn: 4362.9986391\ttotal: 345ms\tremaining: 3.81s\n",
      "83:\tlearn: 4355.2252688\ttotal: 347ms\tremaining: 3.78s\n",
      "84:\tlearn: 4347.2210055\ttotal: 354ms\tremaining: 3.81s\n",
      "85:\tlearn: 4338.4768870\ttotal: 356ms\tremaining: 3.78s\n",
      "86:\tlearn: 4329.9572915\ttotal: 359ms\tremaining: 3.77s\n",
      "87:\tlearn: 4321.6434036\ttotal: 361ms\tremaining: 3.74s\n",
      "88:\tlearn: 4313.4070033\ttotal: 364ms\tremaining: 3.72s\n",
      "89:\tlearn: 4301.7556166\ttotal: 369ms\tremaining: 3.73s\n",
      "90:\tlearn: 4294.7978812\ttotal: 372ms\tremaining: 3.72s\n",
      "91:\tlearn: 4285.7483009\ttotal: 375ms\tremaining: 3.7s\n",
      "92:\tlearn: 4277.6823691\ttotal: 381ms\tremaining: 3.71s\n",
      "93:\tlearn: 4270.8303654\ttotal: 385ms\tremaining: 3.71s\n",
      "94:\tlearn: 4262.6880748\ttotal: 387ms\tremaining: 3.69s\n",
      "95:\tlearn: 4257.9334159\ttotal: 390ms\tremaining: 3.67s\n",
      "96:\tlearn: 4250.7717752\ttotal: 393ms\tremaining: 3.65s\n",
      "97:\tlearn: 4242.1298845\ttotal: 396ms\tremaining: 3.64s\n",
      "98:\tlearn: 4237.1172486\ttotal: 398ms\tremaining: 3.62s\n",
      "99:\tlearn: 4231.6525269\ttotal: 401ms\tremaining: 3.61s\n",
      "100:\tlearn: 4227.1198284\ttotal: 403ms\tremaining: 3.59s\n",
      "101:\tlearn: 4221.1577483\ttotal: 409ms\tremaining: 3.6s\n",
      "102:\tlearn: 4212.5632426\ttotal: 411ms\tremaining: 3.58s\n",
      "103:\tlearn: 4208.1220820\ttotal: 414ms\tremaining: 3.56s\n",
      "104:\tlearn: 4205.3294341\ttotal: 416ms\tremaining: 3.55s\n",
      "105:\tlearn: 4200.8869442\ttotal: 419ms\tremaining: 3.53s\n",
      "106:\tlearn: 4199.0414967\ttotal: 424ms\tremaining: 3.54s\n",
      "107:\tlearn: 4198.4652658\ttotal: 425ms\tremaining: 3.51s\n",
      "108:\tlearn: 4194.0431946\ttotal: 428ms\tremaining: 3.5s\n",
      "109:\tlearn: 4188.8599938\ttotal: 430ms\tremaining: 3.48s\n",
      "110:\tlearn: 4185.2014361\ttotal: 432ms\tremaining: 3.46s\n",
      "111:\tlearn: 4180.4576848\ttotal: 437ms\tremaining: 3.46s\n",
      "112:\tlearn: 4174.5976774\ttotal: 439ms\tremaining: 3.45s\n",
      "113:\tlearn: 4171.1304589\ttotal: 442ms\tremaining: 3.43s\n",
      "114:\tlearn: 4168.6707645\ttotal: 444ms\tremaining: 3.42s\n",
      "115:\tlearn: 4165.5774154\ttotal: 446ms\tremaining: 3.4s\n",
      "116:\tlearn: 4161.6212764\ttotal: 451ms\tremaining: 3.4s\n",
      "117:\tlearn: 4157.5615868\ttotal: 454ms\tremaining: 3.4s\n",
      "118:\tlearn: 4154.8663032\ttotal: 457ms\tremaining: 3.38s\n",
      "119:\tlearn: 4146.6763005\ttotal: 459ms\tremaining: 3.37s\n",
      "120:\tlearn: 4144.1055976\ttotal: 462ms\tremaining: 3.35s\n",
      "121:\tlearn: 4141.4570490\ttotal: 466ms\tremaining: 3.35s\n",
      "122:\tlearn: 4136.8070901\ttotal: 468ms\tremaining: 3.34s\n",
      "123:\tlearn: 4134.9597942\ttotal: 471ms\tremaining: 3.33s\n",
      "124:\tlearn: 4132.0623341\ttotal: 473ms\tremaining: 3.31s\n",
      "125:\tlearn: 4130.0716840\ttotal: 480ms\tremaining: 3.33s\n",
      "126:\tlearn: 4125.5704504\ttotal: 482ms\tremaining: 3.31s\n",
      "127:\tlearn: 4121.1250732\ttotal: 484ms\tremaining: 3.3s\n",
      "128:\tlearn: 4118.9597445\ttotal: 487ms\tremaining: 3.29s\n",
      "129:\tlearn: 4115.8242686\ttotal: 489ms\tremaining: 3.27s\n",
      "130:\tlearn: 4112.8740014\ttotal: 493ms\tremaining: 3.27s\n",
      "131:\tlearn: 4106.9948511\ttotal: 496ms\tremaining: 3.26s\n",
      "132:\tlearn: 4102.0976043\ttotal: 499ms\tremaining: 3.25s\n",
      "133:\tlearn: 4097.2288060\ttotal: 502ms\tremaining: 3.24s\n",
      "134:\tlearn: 4093.7731673\ttotal: 505ms\tremaining: 3.24s\n",
      "135:\tlearn: 4088.6954959\ttotal: 509ms\tremaining: 3.23s\n",
      "136:\tlearn: 4083.5633580\ttotal: 512ms\tremaining: 3.22s\n",
      "137:\tlearn: 4081.4217044\ttotal: 514ms\tremaining: 3.21s\n",
      "138:\tlearn: 4077.1880481\ttotal: 516ms\tremaining: 3.2s\n",
      "139:\tlearn: 4074.3544736\ttotal: 519ms\tremaining: 3.19s\n",
      "140:\tlearn: 4071.0430442\ttotal: 521ms\tremaining: 3.17s\n",
      "141:\tlearn: 4068.6165328\ttotal: 523ms\tremaining: 3.16s\n",
      "142:\tlearn: 4064.7735920\ttotal: 526ms\tremaining: 3.15s\n",
      "143:\tlearn: 4062.6197252\ttotal: 528ms\tremaining: 3.14s\n",
      "144:\tlearn: 4060.4166354\ttotal: 530ms\tremaining: 3.13s\n",
      "145:\tlearn: 4055.0917851\ttotal: 532ms\tremaining: 3.11s\n",
      "146:\tlearn: 4052.7490326\ttotal: 535ms\tremaining: 3.1s\n",
      "147:\tlearn: 4049.6974722\ttotal: 537ms\tremaining: 3.09s\n",
      "148:\tlearn: 4047.8398799\ttotal: 540ms\tremaining: 3.08s\n",
      "149:\tlearn: 4045.9779032\ttotal: 542ms\tremaining: 3.07s\n",
      "150:\tlearn: 4037.4700632\ttotal: 544ms\tremaining: 3.06s\n",
      "151:\tlearn: 4034.0110038\ttotal: 547ms\tremaining: 3.05s\n",
      "152:\tlearn: 4029.0266208\ttotal: 550ms\tremaining: 3.04s\n",
      "153:\tlearn: 4026.2900674\ttotal: 552ms\tremaining: 3.03s\n",
      "154:\tlearn: 4022.4616724\ttotal: 554ms\tremaining: 3.02s\n",
      "155:\tlearn: 4018.2252520\ttotal: 556ms\tremaining: 3.01s\n",
      "156:\tlearn: 4014.4465190\ttotal: 559ms\tremaining: 3s\n",
      "157:\tlearn: 4012.4673890\ttotal: 561ms\tremaining: 2.99s\n",
      "158:\tlearn: 4010.0831853\ttotal: 564ms\tremaining: 2.98s\n",
      "159:\tlearn: 4007.7532014\ttotal: 566ms\tremaining: 2.97s\n",
      "160:\tlearn: 4003.9061394\ttotal: 569ms\tremaining: 2.96s\n",
      "161:\tlearn: 3999.5496904\ttotal: 571ms\tremaining: 2.95s\n",
      "162:\tlearn: 3995.5874205\ttotal: 573ms\tremaining: 2.94s\n",
      "163:\tlearn: 3992.0501870\ttotal: 576ms\tremaining: 2.93s\n",
      "164:\tlearn: 3988.0293307\ttotal: 578ms\tremaining: 2.93s\n",
      "165:\tlearn: 3984.9766292\ttotal: 582ms\tremaining: 2.92s\n",
      "166:\tlearn: 3981.9836447\ttotal: 585ms\tremaining: 2.92s\n",
      "167:\tlearn: 3980.1909757\ttotal: 587ms\tremaining: 2.91s\n",
      "168:\tlearn: 3976.4337904\ttotal: 589ms\tremaining: 2.9s\n",
      "169:\tlearn: 3971.6784345\ttotal: 592ms\tremaining: 2.89s\n",
      "170:\tlearn: 3968.5877961\ttotal: 594ms\tremaining: 2.88s\n",
      "171:\tlearn: 3965.2761852\ttotal: 596ms\tremaining: 2.87s\n",
      "172:\tlearn: 3963.3505671\ttotal: 599ms\tremaining: 2.86s\n",
      "173:\tlearn: 3958.7787196\ttotal: 601ms\tremaining: 2.85s\n",
      "174:\tlearn: 3954.7770303\ttotal: 603ms\tremaining: 2.84s\n",
      "175:\tlearn: 3952.2369341\ttotal: 606ms\tremaining: 2.84s\n",
      "176:\tlearn: 3950.5023688\ttotal: 608ms\tremaining: 2.83s\n",
      "177:\tlearn: 3946.2105310\ttotal: 611ms\tremaining: 2.82s\n",
      "178:\tlearn: 3941.6805859\ttotal: 613ms\tremaining: 2.81s\n",
      "179:\tlearn: 3938.6448747\ttotal: 615ms\tremaining: 2.8s\n",
      "180:\tlearn: 3933.2161018\ttotal: 617ms\tremaining: 2.79s\n",
      "181:\tlearn: 3927.0732598\ttotal: 620ms\tremaining: 2.79s\n",
      "182:\tlearn: 3924.7399646\ttotal: 622ms\tremaining: 2.78s\n",
      "183:\tlearn: 3921.5251066\ttotal: 624ms\tremaining: 2.77s\n",
      "184:\tlearn: 3919.0969111\ttotal: 627ms\tremaining: 2.76s\n",
      "185:\tlearn: 3916.8292582\ttotal: 629ms\tremaining: 2.75s\n",
      "186:\tlearn: 3913.7666182\ttotal: 631ms\tremaining: 2.74s\n",
      "187:\tlearn: 3910.6950648\ttotal: 634ms\tremaining: 2.74s\n",
      "188:\tlearn: 3909.0129726\ttotal: 636ms\tremaining: 2.73s\n",
      "189:\tlearn: 3902.7972935\ttotal: 638ms\tremaining: 2.72s\n",
      "190:\tlearn: 3901.5528530\ttotal: 640ms\tremaining: 2.71s\n",
      "191:\tlearn: 3901.2170430\ttotal: 641ms\tremaining: 2.7s\n",
      "192:\tlearn: 3898.1237436\ttotal: 644ms\tremaining: 2.69s\n",
      "193:\tlearn: 3895.5514380\ttotal: 646ms\tremaining: 2.68s\n",
      "194:\tlearn: 3891.2897614\ttotal: 649ms\tremaining: 2.68s\n",
      "195:\tlearn: 3888.7125915\ttotal: 651ms\tremaining: 2.67s\n",
      "196:\tlearn: 3886.7062546\ttotal: 654ms\tremaining: 2.67s\n",
      "197:\tlearn: 3883.2561642\ttotal: 656ms\tremaining: 2.66s\n",
      "198:\tlearn: 3880.8608695\ttotal: 658ms\tremaining: 2.65s\n",
      "199:\tlearn: 3878.4717273\ttotal: 661ms\tremaining: 2.64s\n"
     ]
    },
    {
     "name": "stdout",
     "output_type": "stream",
     "text": [
      "200:\tlearn: 3875.1707624\ttotal: 663ms\tremaining: 2.64s\n",
      "201:\tlearn: 3870.0450671\ttotal: 666ms\tremaining: 2.63s\n",
      "202:\tlearn: 3864.0551213\ttotal: 669ms\tremaining: 2.63s\n",
      "203:\tlearn: 3862.2187817\ttotal: 671ms\tremaining: 2.62s\n",
      "204:\tlearn: 3860.0951600\ttotal: 674ms\tremaining: 2.61s\n",
      "205:\tlearn: 3857.4429501\ttotal: 676ms\tremaining: 2.61s\n",
      "206:\tlearn: 3855.8944861\ttotal: 678ms\tremaining: 2.6s\n",
      "207:\tlearn: 3852.4434921\ttotal: 681ms\tremaining: 2.59s\n",
      "208:\tlearn: 3850.9987467\ttotal: 684ms\tremaining: 2.59s\n",
      "209:\tlearn: 3845.9564971\ttotal: 687ms\tremaining: 2.58s\n",
      "210:\tlearn: 3844.7047572\ttotal: 689ms\tremaining: 2.58s\n",
      "211:\tlearn: 3843.2912214\ttotal: 691ms\tremaining: 2.57s\n",
      "212:\tlearn: 3839.1751738\ttotal: 695ms\tremaining: 2.57s\n",
      "213:\tlearn: 3837.6289753\ttotal: 697ms\tremaining: 2.56s\n",
      "214:\tlearn: 3835.1019337\ttotal: 700ms\tremaining: 2.56s\n",
      "215:\tlearn: 3833.8360580\ttotal: 702ms\tremaining: 2.55s\n",
      "216:\tlearn: 3830.6959464\ttotal: 704ms\tremaining: 2.54s\n",
      "217:\tlearn: 3829.6118904\ttotal: 707ms\tremaining: 2.54s\n",
      "218:\tlearn: 3827.8796890\ttotal: 713ms\tremaining: 2.54s\n",
      "219:\tlearn: 3824.6068642\ttotal: 715ms\tremaining: 2.54s\n",
      "220:\tlearn: 3823.5332789\ttotal: 718ms\tremaining: 2.53s\n",
      "221:\tlearn: 3821.6183320\ttotal: 721ms\tremaining: 2.53s\n",
      "222:\tlearn: 3820.6589976\ttotal: 724ms\tremaining: 2.52s\n",
      "223:\tlearn: 3820.1248683\ttotal: 728ms\tremaining: 2.52s\n",
      "224:\tlearn: 3819.5776051\ttotal: 731ms\tremaining: 2.52s\n",
      "225:\tlearn: 3816.7439259\ttotal: 733ms\tremaining: 2.51s\n",
      "226:\tlearn: 3814.3429520\ttotal: 736ms\tremaining: 2.5s\n",
      "227:\tlearn: 3811.0880285\ttotal: 740ms\tremaining: 2.51s\n",
      "228:\tlearn: 3808.2194780\ttotal: 743ms\tremaining: 2.5s\n",
      "229:\tlearn: 3806.2893031\ttotal: 745ms\tremaining: 2.49s\n",
      "230:\tlearn: 3803.2396138\ttotal: 748ms\tremaining: 2.49s\n",
      "231:\tlearn: 3798.9041093\ttotal: 750ms\tremaining: 2.48s\n",
      "232:\tlearn: 3797.4990734\ttotal: 756ms\tremaining: 2.49s\n",
      "233:\tlearn: 3795.7245935\ttotal: 758ms\tremaining: 2.48s\n",
      "234:\tlearn: 3795.5542727\ttotal: 760ms\tremaining: 2.47s\n",
      "235:\tlearn: 3793.0616134\ttotal: 762ms\tremaining: 2.47s\n",
      "236:\tlearn: 3791.9714962\ttotal: 764ms\tremaining: 2.46s\n",
      "237:\tlearn: 3790.3529940\ttotal: 771ms\tremaining: 2.47s\n",
      "238:\tlearn: 3788.0621343\ttotal: 774ms\tremaining: 2.46s\n",
      "239:\tlearn: 3785.4141081\ttotal: 776ms\tremaining: 2.46s\n",
      "240:\tlearn: 3781.7980416\ttotal: 778ms\tremaining: 2.45s\n",
      "241:\tlearn: 3777.8091714\ttotal: 795ms\tremaining: 2.49s\n",
      "242:\tlearn: 3777.3050783\ttotal: 800ms\tremaining: 2.49s\n",
      "243:\tlearn: 3775.2265415\ttotal: 803ms\tremaining: 2.49s\n",
      "244:\tlearn: 3772.9628657\ttotal: 806ms\tremaining: 2.48s\n",
      "245:\tlearn: 3771.1403482\ttotal: 808ms\tremaining: 2.48s\n",
      "246:\tlearn: 3768.9202276\ttotal: 810ms\tremaining: 2.47s\n",
      "247:\tlearn: 3767.3044595\ttotal: 814ms\tremaining: 2.47s\n",
      "248:\tlearn: 3763.7804697\ttotal: 818ms\tremaining: 2.47s\n",
      "249:\tlearn: 3761.6445594\ttotal: 820ms\tremaining: 2.46s\n",
      "250:\tlearn: 3760.6489486\ttotal: 823ms\tremaining: 2.46s\n",
      "251:\tlearn: 3759.4582819\ttotal: 825ms\tremaining: 2.45s\n",
      "252:\tlearn: 3754.5031310\ttotal: 831ms\tremaining: 2.45s\n",
      "253:\tlearn: 3753.3977474\ttotal: 834ms\tremaining: 2.45s\n",
      "254:\tlearn: 3752.0281631\ttotal: 836ms\tremaining: 2.44s\n",
      "255:\tlearn: 3749.6792175\ttotal: 839ms\tremaining: 2.44s\n",
      "256:\tlearn: 3747.5312819\ttotal: 841ms\tremaining: 2.43s\n",
      "257:\tlearn: 3745.9947445\ttotal: 847ms\tremaining: 2.44s\n",
      "258:\tlearn: 3743.4105841\ttotal: 849ms\tremaining: 2.43s\n",
      "259:\tlearn: 3740.1738671\ttotal: 852ms\tremaining: 2.42s\n",
      "260:\tlearn: 3735.6084947\ttotal: 854ms\tremaining: 2.42s\n",
      "261:\tlearn: 3733.5795613\ttotal: 856ms\tremaining: 2.41s\n",
      "262:\tlearn: 3731.3607884\ttotal: 861ms\tremaining: 2.41s\n",
      "263:\tlearn: 3730.0000225\ttotal: 864ms\tremaining: 2.41s\n",
      "264:\tlearn: 3729.4328626\ttotal: 866ms\tremaining: 2.4s\n",
      "265:\tlearn: 3728.4076232\ttotal: 868ms\tremaining: 2.4s\n",
      "266:\tlearn: 3728.0419927\ttotal: 870ms\tremaining: 2.39s\n",
      "267:\tlearn: 3725.3538557\ttotal: 872ms\tremaining: 2.38s\n",
      "268:\tlearn: 3720.9293397\ttotal: 875ms\tremaining: 2.38s\n",
      "269:\tlearn: 3719.3262590\ttotal: 877ms\tremaining: 2.37s\n",
      "270:\tlearn: 3717.1494795\ttotal: 880ms\tremaining: 2.37s\n",
      "271:\tlearn: 3716.1669142\ttotal: 882ms\tremaining: 2.36s\n",
      "272:\tlearn: 3714.6035903\ttotal: 884ms\tremaining: 2.35s\n",
      "273:\tlearn: 3713.5673274\ttotal: 887ms\tremaining: 2.35s\n",
      "274:\tlearn: 3711.6506689\ttotal: 891ms\tremaining: 2.35s\n",
      "275:\tlearn: 3710.6975418\ttotal: 893ms\tremaining: 2.34s\n",
      "276:\tlearn: 3709.7582524\ttotal: 895ms\tremaining: 2.34s\n",
      "277:\tlearn: 3707.3386302\ttotal: 897ms\tremaining: 2.33s\n",
      "278:\tlearn: 3706.4441498\ttotal: 900ms\tremaining: 2.33s\n",
      "279:\tlearn: 3703.9069516\ttotal: 902ms\tremaining: 2.32s\n",
      "280:\tlearn: 3698.7209332\ttotal: 905ms\tremaining: 2.31s\n",
      "281:\tlearn: 3697.1033031\ttotal: 907ms\tremaining: 2.31s\n",
      "282:\tlearn: 3696.0853592\ttotal: 909ms\tremaining: 2.3s\n",
      "283:\tlearn: 3695.1977175\ttotal: 911ms\tremaining: 2.3s\n",
      "284:\tlearn: 3688.9529673\ttotal: 914ms\tremaining: 2.29s\n",
      "285:\tlearn: 3687.0703987\ttotal: 916ms\tremaining: 2.29s\n",
      "286:\tlearn: 3682.3929919\ttotal: 919ms\tremaining: 2.28s\n",
      "287:\tlearn: 3680.5964300\ttotal: 921ms\tremaining: 2.28s\n",
      "288:\tlearn: 3678.0717088\ttotal: 923ms\tremaining: 2.27s\n",
      "289:\tlearn: 3676.3607334\ttotal: 926ms\tremaining: 2.27s\n",
      "290:\tlearn: 3671.8825407\ttotal: 928ms\tremaining: 2.26s\n",
      "291:\tlearn: 3669.6876607\ttotal: 930ms\tremaining: 2.25s\n",
      "292:\tlearn: 3668.1087373\ttotal: 933ms\tremaining: 2.25s\n",
      "293:\tlearn: 3665.8987865\ttotal: 935ms\tremaining: 2.25s\n",
      "294:\tlearn: 3664.3107518\ttotal: 937ms\tremaining: 2.24s\n",
      "295:\tlearn: 3663.4326588\ttotal: 940ms\tremaining: 2.23s\n",
      "296:\tlearn: 3662.9943094\ttotal: 942ms\tremaining: 2.23s\n",
      "297:\tlearn: 3662.1904790\ttotal: 945ms\tremaining: 2.23s\n",
      "298:\tlearn: 3657.8371098\ttotal: 947ms\tremaining: 2.22s\n",
      "299:\tlearn: 3654.0064466\ttotal: 950ms\tremaining: 2.21s\n",
      "300:\tlearn: 3652.1939531\ttotal: 952ms\tremaining: 2.21s\n",
      "301:\tlearn: 3650.3886453\ttotal: 954ms\tremaining: 2.21s\n",
      "302:\tlearn: 3649.1177434\ttotal: 957ms\tremaining: 2.2s\n",
      "303:\tlearn: 3647.3879685\ttotal: 959ms\tremaining: 2.19s\n",
      "304:\tlearn: 3644.2414494\ttotal: 962ms\tremaining: 2.19s\n",
      "305:\tlearn: 3640.3548746\ttotal: 964ms\tremaining: 2.19s\n",
      "306:\tlearn: 3639.7130410\ttotal: 966ms\tremaining: 2.18s\n",
      "307:\tlearn: 3638.8583368\ttotal: 969ms\tremaining: 2.18s\n",
      "308:\tlearn: 3635.8177114\ttotal: 971ms\tremaining: 2.17s\n",
      "309:\tlearn: 3634.1587982\ttotal: 973ms\tremaining: 2.17s\n",
      "310:\tlearn: 3632.0198166\ttotal: 976ms\tremaining: 2.16s\n",
      "311:\tlearn: 3631.4220173\ttotal: 978ms\tremaining: 2.16s\n",
      "312:\tlearn: 3628.9319929\ttotal: 980ms\tremaining: 2.15s\n",
      "313:\tlearn: 3627.7142464\ttotal: 982ms\tremaining: 2.15s\n",
      "314:\tlearn: 3626.5510953\ttotal: 985ms\tremaining: 2.14s\n",
      "315:\tlearn: 3623.7641080\ttotal: 987ms\tremaining: 2.14s\n",
      "316:\tlearn: 3620.4920792\ttotal: 989ms\tremaining: 2.13s\n",
      "317:\tlearn: 3618.5702553\ttotal: 992ms\tremaining: 2.13s\n",
      "318:\tlearn: 3615.8457858\ttotal: 995ms\tremaining: 2.12s\n",
      "319:\tlearn: 3613.3132080\ttotal: 997ms\tremaining: 2.12s\n",
      "320:\tlearn: 3612.8027386\ttotal: 999ms\tremaining: 2.11s\n",
      "321:\tlearn: 3611.6403883\ttotal: 1s\tremaining: 2.11s\n",
      "322:\tlearn: 3609.4478065\ttotal: 1s\tremaining: 2.1s\n",
      "323:\tlearn: 3608.2408305\ttotal: 1.01s\tremaining: 2.1s\n",
      "324:\tlearn: 3607.0634842\ttotal: 1.01s\tremaining: 2.1s\n",
      "325:\tlearn: 3605.6761179\ttotal: 1.01s\tremaining: 2.09s\n",
      "326:\tlearn: 3603.8221202\ttotal: 1.01s\tremaining: 2.08s\n",
      "327:\tlearn: 3601.9495942\ttotal: 1.01s\tremaining: 2.08s\n",
      "328:\tlearn: 3598.9857467\ttotal: 1.02s\tremaining: 2.08s\n",
      "329:\tlearn: 3598.2125488\ttotal: 1.02s\tremaining: 2.07s\n",
      "330:\tlearn: 3596.9493012\ttotal: 1.02s\tremaining: 2.07s\n",
      "331:\tlearn: 3594.8420665\ttotal: 1.02s\tremaining: 2.06s\n",
      "332:\tlearn: 3592.9196861\ttotal: 1.03s\tremaining: 2.06s\n",
      "333:\tlearn: 3591.0116579\ttotal: 1.03s\tremaining: 2.05s\n",
      "334:\tlearn: 3589.6282812\ttotal: 1.03s\tremaining: 2.05s\n",
      "335:\tlearn: 3587.2503197\ttotal: 1.03s\tremaining: 2.04s\n",
      "336:\tlearn: 3586.6655263\ttotal: 1.04s\tremaining: 2.04s\n",
      "337:\tlearn: 3583.2073345\ttotal: 1.04s\tremaining: 2.04s\n",
      "338:\tlearn: 3579.5023924\ttotal: 1.04s\tremaining: 2.03s\n",
      "339:\tlearn: 3578.1445195\ttotal: 1.04s\tremaining: 2.03s\n",
      "340:\tlearn: 3576.8325546\ttotal: 1.05s\tremaining: 2.02s\n",
      "341:\tlearn: 3576.2799333\ttotal: 1.05s\tremaining: 2.02s\n",
      "342:\tlearn: 3573.8352860\ttotal: 1.05s\tremaining: 2.01s\n",
      "343:\tlearn: 3572.0736251\ttotal: 1.05s\tremaining: 2.01s\n",
      "344:\tlearn: 3569.1723037\ttotal: 1.06s\tremaining: 2s\n",
      "345:\tlearn: 3567.2134075\ttotal: 1.06s\tremaining: 2s\n",
      "346:\tlearn: 3565.5192783\ttotal: 1.06s\tremaining: 2s\n",
      "347:\tlearn: 3563.6120441\ttotal: 1.06s\tremaining: 1.99s\n",
      "348:\tlearn: 3561.9081897\ttotal: 1.06s\tremaining: 1.99s\n",
      "349:\tlearn: 3560.1191916\ttotal: 1.07s\tremaining: 1.98s\n",
      "350:\tlearn: 3556.3777851\ttotal: 1.07s\tremaining: 1.98s\n",
      "351:\tlearn: 3553.9910400\ttotal: 1.07s\tremaining: 1.97s\n",
      "352:\tlearn: 3553.6971048\ttotal: 1.07s\tremaining: 1.97s\n",
      "353:\tlearn: 3552.9087026\ttotal: 1.08s\tremaining: 1.97s\n",
      "354:\tlearn: 3549.8918303\ttotal: 1.08s\tremaining: 1.96s\n",
      "355:\tlearn: 3547.7848865\ttotal: 1.08s\tremaining: 1.96s\n",
      "356:\tlearn: 3545.6633878\ttotal: 1.08s\tremaining: 1.95s\n",
      "357:\tlearn: 3544.2341805\ttotal: 1.09s\tremaining: 1.95s\n",
      "358:\tlearn: 3542.9766601\ttotal: 1.09s\tremaining: 1.94s\n",
      "359:\tlearn: 3541.5696225\ttotal: 1.09s\tremaining: 1.94s\n",
      "360:\tlearn: 3537.3067813\ttotal: 1.09s\tremaining: 1.94s\n",
      "361:\tlearn: 3535.4242128\ttotal: 1.1s\tremaining: 1.93s\n",
      "362:\tlearn: 3535.0362495\ttotal: 1.1s\tremaining: 1.93s\n",
      "363:\tlearn: 3534.5000546\ttotal: 1.1s\tremaining: 1.92s\n",
      "364:\tlearn: 3533.6319603\ttotal: 1.1s\tremaining: 1.92s\n",
      "365:\tlearn: 3529.8956772\ttotal: 1.11s\tremaining: 1.92s\n",
      "366:\tlearn: 3528.7471492\ttotal: 1.11s\tremaining: 1.91s\n",
      "367:\tlearn: 3527.5156352\ttotal: 1.11s\tremaining: 1.91s\n",
      "368:\tlearn: 3524.8051616\ttotal: 1.11s\tremaining: 1.9s\n",
      "369:\tlearn: 3523.6058299\ttotal: 1.11s\tremaining: 1.9s\n",
      "370:\tlearn: 3522.7511595\ttotal: 1.12s\tremaining: 1.9s\n",
      "371:\tlearn: 3519.9554074\ttotal: 1.12s\tremaining: 1.89s\n",
      "372:\tlearn: 3517.3468592\ttotal: 1.12s\tremaining: 1.89s\n",
      "373:\tlearn: 3512.7433405\ttotal: 1.13s\tremaining: 1.88s\n",
      "374:\tlearn: 3510.7209428\ttotal: 1.13s\tremaining: 1.88s\n",
      "375:\tlearn: 3509.6407008\ttotal: 1.13s\tremaining: 1.87s\n",
      "376:\tlearn: 3507.4157893\ttotal: 1.13s\tremaining: 1.87s\n",
      "377:\tlearn: 3506.0701919\ttotal: 1.13s\tremaining: 1.87s\n",
      "378:\tlearn: 3505.5809547\ttotal: 1.14s\tremaining: 1.86s\n",
      "379:\tlearn: 3503.0363586\ttotal: 1.14s\tremaining: 1.86s\n",
      "380:\tlearn: 3501.6303292\ttotal: 1.14s\tremaining: 1.85s\n",
      "381:\tlearn: 3500.6268185\ttotal: 1.14s\tremaining: 1.85s\n",
      "382:\tlearn: 3497.4656095\ttotal: 1.15s\tremaining: 1.84s\n",
      "383:\tlearn: 3494.8164772\ttotal: 1.15s\tremaining: 1.84s\n",
      "384:\tlearn: 3490.4755928\ttotal: 1.15s\tremaining: 1.84s\n",
      "385:\tlearn: 3489.2870601\ttotal: 1.15s\tremaining: 1.83s\n",
      "386:\tlearn: 3485.6404860\ttotal: 1.15s\tremaining: 1.83s\n",
      "387:\tlearn: 3483.8681747\ttotal: 1.16s\tremaining: 1.82s\n"
     ]
    },
    {
     "name": "stdout",
     "output_type": "stream",
     "text": [
      "388:\tlearn: 3481.6110980\ttotal: 1.16s\tremaining: 1.82s\n",
      "389:\tlearn: 3479.7982295\ttotal: 1.16s\tremaining: 1.82s\n",
      "390:\tlearn: 3474.4249416\ttotal: 1.16s\tremaining: 1.81s\n",
      "391:\tlearn: 3470.0958459\ttotal: 1.17s\tremaining: 1.81s\n",
      "392:\tlearn: 3468.5014888\ttotal: 1.17s\tremaining: 1.81s\n",
      "393:\tlearn: 3468.0314644\ttotal: 1.17s\tremaining: 1.8s\n",
      "394:\tlearn: 3464.6020664\ttotal: 1.17s\tremaining: 1.8s\n",
      "395:\tlearn: 3462.6159410\ttotal: 1.18s\tremaining: 1.79s\n",
      "396:\tlearn: 3462.1959417\ttotal: 1.18s\tremaining: 1.79s\n",
      "397:\tlearn: 3459.7628897\ttotal: 1.18s\tremaining: 1.78s\n",
      "398:\tlearn: 3458.6066184\ttotal: 1.18s\tremaining: 1.78s\n",
      "399:\tlearn: 3457.2215036\ttotal: 1.19s\tremaining: 1.78s\n",
      "400:\tlearn: 3452.0792138\ttotal: 1.19s\tremaining: 1.77s\n",
      "401:\tlearn: 3450.7830947\ttotal: 1.19s\tremaining: 1.77s\n",
      "402:\tlearn: 3450.3132895\ttotal: 1.19s\tremaining: 1.77s\n",
      "403:\tlearn: 3447.2613431\ttotal: 1.2s\tremaining: 1.76s\n",
      "404:\tlearn: 3446.5093514\ttotal: 1.2s\tremaining: 1.76s\n",
      "405:\tlearn: 3444.3755098\ttotal: 1.2s\tremaining: 1.76s\n",
      "406:\tlearn: 3440.7150336\ttotal: 1.2s\tremaining: 1.75s\n",
      "407:\tlearn: 3437.8047194\ttotal: 1.21s\tremaining: 1.75s\n",
      "408:\tlearn: 3434.4954233\ttotal: 1.21s\tremaining: 1.75s\n",
      "409:\tlearn: 3433.8639173\ttotal: 1.21s\tremaining: 1.75s\n",
      "410:\tlearn: 3432.2887053\ttotal: 1.22s\tremaining: 1.74s\n",
      "411:\tlearn: 3430.5974512\ttotal: 1.22s\tremaining: 1.74s\n",
      "412:\tlearn: 3427.5746622\ttotal: 1.22s\tremaining: 1.74s\n",
      "413:\tlearn: 3427.1274885\ttotal: 1.22s\tremaining: 1.73s\n",
      "414:\tlearn: 3425.2836819\ttotal: 1.23s\tremaining: 1.73s\n",
      "415:\tlearn: 3424.9619870\ttotal: 1.23s\tremaining: 1.73s\n",
      "416:\tlearn: 3421.9777902\ttotal: 1.23s\tremaining: 1.72s\n",
      "417:\tlearn: 3420.1354411\ttotal: 1.23s\tremaining: 1.72s\n",
      "418:\tlearn: 3417.3592756\ttotal: 1.24s\tremaining: 1.72s\n",
      "419:\tlearn: 3415.4884544\ttotal: 1.24s\tremaining: 1.71s\n",
      "420:\tlearn: 3414.0615273\ttotal: 1.24s\tremaining: 1.71s\n",
      "421:\tlearn: 3412.8070591\ttotal: 1.25s\tremaining: 1.71s\n",
      "422:\tlearn: 3410.3356416\ttotal: 1.25s\tremaining: 1.7s\n",
      "423:\tlearn: 3408.1758276\ttotal: 1.25s\tremaining: 1.7s\n",
      "424:\tlearn: 3404.9447257\ttotal: 1.25s\tremaining: 1.7s\n",
      "425:\tlearn: 3401.0389500\ttotal: 1.26s\tremaining: 1.7s\n",
      "426:\tlearn: 3398.5586827\ttotal: 1.26s\tremaining: 1.69s\n",
      "427:\tlearn: 3395.0447191\ttotal: 1.26s\tremaining: 1.69s\n",
      "428:\tlearn: 3392.0888859\ttotal: 1.27s\tremaining: 1.69s\n",
      "429:\tlearn: 3391.6247101\ttotal: 1.27s\tremaining: 1.69s\n",
      "430:\tlearn: 3389.2360289\ttotal: 1.28s\tremaining: 1.69s\n",
      "431:\tlearn: 3385.9140345\ttotal: 1.28s\tremaining: 1.68s\n",
      "432:\tlearn: 3383.6089488\ttotal: 1.28s\tremaining: 1.68s\n",
      "433:\tlearn: 3380.3063761\ttotal: 1.29s\tremaining: 1.68s\n",
      "434:\tlearn: 3379.9942493\ttotal: 1.29s\tremaining: 1.68s\n",
      "435:\tlearn: 3378.6587239\ttotal: 1.29s\tremaining: 1.67s\n",
      "436:\tlearn: 3377.4271589\ttotal: 1.3s\tremaining: 1.67s\n",
      "437:\tlearn: 3374.6597573\ttotal: 1.3s\tremaining: 1.67s\n",
      "438:\tlearn: 3372.4484327\ttotal: 1.3s\tremaining: 1.67s\n",
      "439:\tlearn: 3370.9659829\ttotal: 1.31s\tremaining: 1.66s\n",
      "440:\tlearn: 3369.8154965\ttotal: 1.31s\tremaining: 1.66s\n",
      "441:\tlearn: 3368.4443873\ttotal: 1.31s\tremaining: 1.66s\n",
      "442:\tlearn: 3365.2996481\ttotal: 1.32s\tremaining: 1.66s\n",
      "443:\tlearn: 3363.3526174\ttotal: 1.32s\tremaining: 1.65s\n",
      "444:\tlearn: 3362.2036823\ttotal: 1.32s\tremaining: 1.65s\n",
      "445:\tlearn: 3361.7838240\ttotal: 1.32s\tremaining: 1.65s\n",
      "446:\tlearn: 3361.0240378\ttotal: 1.33s\tremaining: 1.64s\n",
      "447:\tlearn: 3356.7065121\ttotal: 1.33s\tremaining: 1.64s\n",
      "448:\tlearn: 3354.2609032\ttotal: 1.34s\tremaining: 1.64s\n",
      "449:\tlearn: 3353.0531405\ttotal: 1.34s\tremaining: 1.64s\n",
      "450:\tlearn: 3349.9706683\ttotal: 1.34s\tremaining: 1.63s\n",
      "451:\tlearn: 3348.8543839\ttotal: 1.35s\tremaining: 1.63s\n",
      "452:\tlearn: 3347.6808416\ttotal: 1.35s\tremaining: 1.63s\n",
      "453:\tlearn: 3344.7438656\ttotal: 1.35s\tremaining: 1.62s\n",
      "454:\tlearn: 3342.6074756\ttotal: 1.35s\tremaining: 1.62s\n",
      "455:\tlearn: 3339.0753547\ttotal: 1.36s\tremaining: 1.62s\n",
      "456:\tlearn: 3336.7795390\ttotal: 1.36s\tremaining: 1.62s\n",
      "457:\tlearn: 3334.7190364\ttotal: 1.36s\tremaining: 1.61s\n",
      "458:\tlearn: 3333.5926183\ttotal: 1.37s\tremaining: 1.61s\n",
      "459:\tlearn: 3332.3136016\ttotal: 1.37s\tremaining: 1.61s\n",
      "460:\tlearn: 3329.6742926\ttotal: 1.37s\tremaining: 1.6s\n",
      "461:\tlearn: 3329.2142576\ttotal: 1.38s\tremaining: 1.61s\n",
      "462:\tlearn: 3327.4002102\ttotal: 1.38s\tremaining: 1.6s\n",
      "463:\tlearn: 3326.5366884\ttotal: 1.38s\tremaining: 1.6s\n",
      "464:\tlearn: 3326.0878022\ttotal: 1.39s\tremaining: 1.59s\n",
      "465:\tlearn: 3324.7595445\ttotal: 1.39s\tremaining: 1.59s\n",
      "466:\tlearn: 3323.8729873\ttotal: 1.39s\tremaining: 1.59s\n",
      "467:\tlearn: 3321.0455830\ttotal: 1.4s\tremaining: 1.59s\n",
      "468:\tlearn: 3320.6322365\ttotal: 1.4s\tremaining: 1.58s\n",
      "469:\tlearn: 3318.8672548\ttotal: 1.4s\tremaining: 1.58s\n",
      "470:\tlearn: 3316.5608104\ttotal: 1.4s\tremaining: 1.58s\n",
      "471:\tlearn: 3315.4259173\ttotal: 1.41s\tremaining: 1.57s\n",
      "472:\tlearn: 3312.8454243\ttotal: 1.41s\tremaining: 1.57s\n",
      "473:\tlearn: 3312.4377373\ttotal: 1.41s\tremaining: 1.57s\n",
      "474:\tlearn: 3311.0685630\ttotal: 1.41s\tremaining: 1.56s\n",
      "475:\tlearn: 3310.2585586\ttotal: 1.42s\tremaining: 1.56s\n",
      "476:\tlearn: 3308.5568910\ttotal: 1.42s\tremaining: 1.56s\n",
      "477:\tlearn: 3305.3622968\ttotal: 1.42s\tremaining: 1.55s\n",
      "478:\tlearn: 3303.1858479\ttotal: 1.43s\tremaining: 1.55s\n",
      "479:\tlearn: 3301.9890794\ttotal: 1.43s\tremaining: 1.55s\n",
      "480:\tlearn: 3300.2490036\ttotal: 1.43s\tremaining: 1.54s\n",
      "481:\tlearn: 3297.3983004\ttotal: 1.43s\tremaining: 1.54s\n",
      "482:\tlearn: 3296.5539907\ttotal: 1.44s\tremaining: 1.54s\n",
      "483:\tlearn: 3293.8118589\ttotal: 1.44s\tremaining: 1.53s\n",
      "484:\tlearn: 3290.7407973\ttotal: 1.44s\tremaining: 1.53s\n",
      "485:\tlearn: 3289.8060598\ttotal: 1.45s\tremaining: 1.53s\n",
      "486:\tlearn: 3289.4712193\ttotal: 1.45s\tremaining: 1.52s\n",
      "487:\tlearn: 3288.7747910\ttotal: 1.45s\tremaining: 1.52s\n",
      "488:\tlearn: 3288.3874278\ttotal: 1.45s\tremaining: 1.52s\n",
      "489:\tlearn: 3286.4554654\ttotal: 1.46s\tremaining: 1.51s\n",
      "490:\tlearn: 3283.7052377\ttotal: 1.46s\tremaining: 1.51s\n",
      "491:\tlearn: 3283.3000115\ttotal: 1.46s\tremaining: 1.51s\n",
      "492:\tlearn: 3281.7010334\ttotal: 1.47s\tremaining: 1.51s\n",
      "493:\tlearn: 3280.6208531\ttotal: 1.47s\tremaining: 1.5s\n",
      "494:\tlearn: 3279.7461017\ttotal: 1.47s\tremaining: 1.5s\n",
      "495:\tlearn: 3279.3576347\ttotal: 1.47s\tremaining: 1.5s\n",
      "496:\tlearn: 3278.9256720\ttotal: 1.48s\tremaining: 1.49s\n",
      "497:\tlearn: 3276.5441457\ttotal: 1.48s\tremaining: 1.49s\n",
      "498:\tlearn: 3276.1902443\ttotal: 1.48s\tremaining: 1.49s\n",
      "499:\tlearn: 3275.0518442\ttotal: 1.48s\tremaining: 1.48s\n",
      "500:\tlearn: 3274.3803942\ttotal: 1.49s\tremaining: 1.48s\n",
      "501:\tlearn: 3273.4373373\ttotal: 1.49s\tremaining: 1.48s\n",
      "502:\tlearn: 3272.1033563\ttotal: 1.49s\tremaining: 1.47s\n",
      "503:\tlearn: 3270.7932405\ttotal: 1.49s\tremaining: 1.47s\n",
      "504:\tlearn: 3270.3817937\ttotal: 1.5s\tremaining: 1.47s\n",
      "505:\tlearn: 3269.1448911\ttotal: 1.5s\tremaining: 1.46s\n",
      "506:\tlearn: 3265.9291189\ttotal: 1.5s\tremaining: 1.46s\n",
      "507:\tlearn: 3263.4128867\ttotal: 1.51s\tremaining: 1.46s\n",
      "508:\tlearn: 3262.7762228\ttotal: 1.51s\tremaining: 1.46s\n",
      "509:\tlearn: 3259.1079325\ttotal: 1.51s\tremaining: 1.45s\n",
      "510:\tlearn: 3257.5580277\ttotal: 1.51s\tremaining: 1.45s\n",
      "511:\tlearn: 3255.3961500\ttotal: 1.51s\tremaining: 1.44s\n",
      "512:\tlearn: 3252.7960670\ttotal: 1.52s\tremaining: 1.44s\n",
      "513:\tlearn: 3251.3145756\ttotal: 1.52s\tremaining: 1.44s\n",
      "514:\tlearn: 3248.4225466\ttotal: 1.52s\tremaining: 1.44s\n",
      "515:\tlearn: 3246.1720664\ttotal: 1.53s\tremaining: 1.43s\n",
      "516:\tlearn: 3244.8097030\ttotal: 1.53s\tremaining: 1.43s\n",
      "517:\tlearn: 3242.5978289\ttotal: 1.53s\tremaining: 1.42s\n",
      "518:\tlearn: 3240.1973770\ttotal: 1.53s\tremaining: 1.42s\n",
      "519:\tlearn: 3238.5031550\ttotal: 1.53s\tremaining: 1.42s\n",
      "520:\tlearn: 3237.4014000\ttotal: 1.54s\tremaining: 1.41s\n",
      "521:\tlearn: 3235.0886573\ttotal: 1.54s\tremaining: 1.41s\n",
      "522:\tlearn: 3233.7797948\ttotal: 1.54s\tremaining: 1.41s\n",
      "523:\tlearn: 3233.2356220\ttotal: 1.54s\tremaining: 1.4s\n",
      "524:\tlearn: 3232.6609648\ttotal: 1.55s\tremaining: 1.4s\n",
      "525:\tlearn: 3231.0260521\ttotal: 1.55s\tremaining: 1.4s\n",
      "526:\tlearn: 3228.8698813\ttotal: 1.55s\tremaining: 1.39s\n",
      "527:\tlearn: 3228.3841858\ttotal: 1.55s\tremaining: 1.39s\n",
      "528:\tlearn: 3227.4717658\ttotal: 1.56s\tremaining: 1.39s\n",
      "529:\tlearn: 3224.5997714\ttotal: 1.56s\tremaining: 1.38s\n",
      "530:\tlearn: 3223.1342972\ttotal: 1.56s\tremaining: 1.38s\n",
      "531:\tlearn: 3221.8096361\ttotal: 1.56s\tremaining: 1.38s\n",
      "532:\tlearn: 3218.9279508\ttotal: 1.57s\tremaining: 1.37s\n",
      "533:\tlearn: 3218.6865790\ttotal: 1.57s\tremaining: 1.37s\n",
      "534:\tlearn: 3216.9629174\ttotal: 1.57s\tremaining: 1.36s\n",
      "535:\tlearn: 3216.0530505\ttotal: 1.57s\tremaining: 1.36s\n",
      "536:\tlearn: 3214.6755050\ttotal: 1.58s\tremaining: 1.36s\n",
      "537:\tlearn: 3212.6930848\ttotal: 1.58s\tremaining: 1.35s\n",
      "538:\tlearn: 3211.2463013\ttotal: 1.58s\tremaining: 1.35s\n",
      "539:\tlearn: 3209.9061425\ttotal: 1.58s\tremaining: 1.35s\n",
      "540:\tlearn: 3207.7258681\ttotal: 1.58s\tremaining: 1.34s\n",
      "541:\tlearn: 3205.2685576\ttotal: 1.59s\tremaining: 1.34s\n",
      "542:\tlearn: 3204.7276068\ttotal: 1.59s\tremaining: 1.34s\n",
      "543:\tlearn: 3203.1478870\ttotal: 1.59s\tremaining: 1.34s\n",
      "544:\tlearn: 3200.8383604\ttotal: 1.6s\tremaining: 1.33s\n",
      "545:\tlearn: 3200.5061362\ttotal: 1.6s\tremaining: 1.33s\n",
      "546:\tlearn: 3199.0026513\ttotal: 1.6s\tremaining: 1.32s\n",
      "547:\tlearn: 3195.6891289\ttotal: 1.6s\tremaining: 1.32s\n",
      "548:\tlearn: 3193.0125388\ttotal: 1.6s\tremaining: 1.32s\n",
      "549:\tlearn: 3192.2851908\ttotal: 1.61s\tremaining: 1.31s\n",
      "550:\tlearn: 3192.0396339\ttotal: 1.61s\tremaining: 1.31s\n",
      "551:\tlearn: 3190.2457084\ttotal: 1.61s\tremaining: 1.31s\n",
      "552:\tlearn: 3189.3682040\ttotal: 1.61s\tremaining: 1.3s\n",
      "553:\tlearn: 3189.1758078\ttotal: 1.62s\tremaining: 1.3s\n",
      "554:\tlearn: 3186.9032366\ttotal: 1.62s\tremaining: 1.3s\n",
      "555:\tlearn: 3186.4127124\ttotal: 1.62s\tremaining: 1.29s\n",
      "556:\tlearn: 3184.3745876\ttotal: 1.62s\tremaining: 1.29s\n",
      "557:\tlearn: 3182.7403200\ttotal: 1.63s\tremaining: 1.29s\n",
      "558:\tlearn: 3182.2300692\ttotal: 1.63s\tremaining: 1.28s\n",
      "559:\tlearn: 3179.3865909\ttotal: 1.63s\tremaining: 1.28s\n",
      "560:\tlearn: 3178.5216323\ttotal: 1.63s\tremaining: 1.28s\n",
      "561:\tlearn: 3175.6858822\ttotal: 1.63s\tremaining: 1.27s\n",
      "562:\tlearn: 3175.2771102\ttotal: 1.64s\tremaining: 1.27s\n",
      "563:\tlearn: 3173.4690766\ttotal: 1.64s\tremaining: 1.27s\n",
      "564:\tlearn: 3172.9369706\ttotal: 1.64s\tremaining: 1.26s\n",
      "565:\tlearn: 3170.2642551\ttotal: 1.64s\tremaining: 1.26s\n",
      "566:\tlearn: 3168.7171865\ttotal: 1.65s\tremaining: 1.26s\n"
     ]
    },
    {
     "name": "stdout",
     "output_type": "stream",
     "text": [
      "567:\tlearn: 3168.3242793\ttotal: 1.65s\tremaining: 1.25s\n",
      "568:\tlearn: 3167.3055348\ttotal: 1.65s\tremaining: 1.25s\n",
      "569:\tlearn: 3165.9984649\ttotal: 1.65s\tremaining: 1.25s\n",
      "570:\tlearn: 3164.2627387\ttotal: 1.66s\tremaining: 1.24s\n",
      "571:\tlearn: 3163.4035218\ttotal: 1.66s\tremaining: 1.24s\n",
      "572:\tlearn: 3162.3884916\ttotal: 1.66s\tremaining: 1.24s\n",
      "573:\tlearn: 3161.1983494\ttotal: 1.66s\tremaining: 1.23s\n",
      "574:\tlearn: 3158.2699542\ttotal: 1.67s\tremaining: 1.23s\n",
      "575:\tlearn: 3156.1298669\ttotal: 1.67s\tremaining: 1.23s\n",
      "576:\tlearn: 3153.2767256\ttotal: 1.67s\tremaining: 1.22s\n",
      "577:\tlearn: 3152.2749611\ttotal: 1.67s\tremaining: 1.22s\n",
      "578:\tlearn: 3149.7438391\ttotal: 1.67s\tremaining: 1.22s\n",
      "579:\tlearn: 3146.8960730\ttotal: 1.68s\tremaining: 1.21s\n",
      "580:\tlearn: 3146.7616186\ttotal: 1.68s\tremaining: 1.21s\n",
      "581:\tlearn: 3146.0241300\ttotal: 1.68s\tremaining: 1.21s\n",
      "582:\tlearn: 3145.0331696\ttotal: 1.68s\tremaining: 1.2s\n",
      "583:\tlearn: 3144.8724510\ttotal: 1.68s\tremaining: 1.2s\n",
      "584:\tlearn: 3143.2365942\ttotal: 1.69s\tremaining: 1.2s\n",
      "585:\tlearn: 3141.2590196\ttotal: 1.69s\tremaining: 1.19s\n",
      "586:\tlearn: 3140.7904451\ttotal: 1.69s\tremaining: 1.19s\n",
      "587:\tlearn: 3138.6530900\ttotal: 1.69s\tremaining: 1.19s\n",
      "588:\tlearn: 3138.1985345\ttotal: 1.7s\tremaining: 1.18s\n",
      "589:\tlearn: 3137.8339373\ttotal: 1.7s\tremaining: 1.18s\n",
      "590:\tlearn: 3137.5206021\ttotal: 1.7s\tremaining: 1.18s\n",
      "591:\tlearn: 3136.3894724\ttotal: 1.7s\tremaining: 1.17s\n",
      "592:\tlearn: 3135.7003430\ttotal: 1.7s\tremaining: 1.17s\n",
      "593:\tlearn: 3134.1812150\ttotal: 1.71s\tremaining: 1.17s\n",
      "594:\tlearn: 3132.5064629\ttotal: 1.71s\tremaining: 1.16s\n",
      "595:\tlearn: 3131.5238369\ttotal: 1.71s\tremaining: 1.16s\n",
      "596:\tlearn: 3129.2965208\ttotal: 1.71s\tremaining: 1.16s\n",
      "597:\tlearn: 3128.8465004\ttotal: 1.72s\tremaining: 1.15s\n",
      "598:\tlearn: 3128.5948886\ttotal: 1.72s\tremaining: 1.15s\n",
      "599:\tlearn: 3127.6754099\ttotal: 1.72s\tremaining: 1.15s\n",
      "600:\tlearn: 3126.3173196\ttotal: 1.72s\tremaining: 1.14s\n",
      "601:\tlearn: 3124.6579164\ttotal: 1.73s\tremaining: 1.14s\n",
      "602:\tlearn: 3122.1970649\ttotal: 1.73s\tremaining: 1.14s\n",
      "603:\tlearn: 3121.3504018\ttotal: 1.73s\tremaining: 1.13s\n",
      "604:\tlearn: 3119.8975927\ttotal: 1.73s\tremaining: 1.13s\n",
      "605:\tlearn: 3118.3247334\ttotal: 1.73s\tremaining: 1.13s\n",
      "606:\tlearn: 3116.1457446\ttotal: 1.74s\tremaining: 1.12s\n",
      "607:\tlearn: 3115.7607968\ttotal: 1.74s\tremaining: 1.12s\n",
      "608:\tlearn: 3113.7561999\ttotal: 1.74s\tremaining: 1.12s\n",
      "609:\tlearn: 3112.2544682\ttotal: 1.74s\tremaining: 1.11s\n",
      "610:\tlearn: 3111.4052355\ttotal: 1.75s\tremaining: 1.11s\n",
      "611:\tlearn: 3109.3658465\ttotal: 1.75s\tremaining: 1.11s\n",
      "612:\tlearn: 3109.0529729\ttotal: 1.75s\tremaining: 1.1s\n",
      "613:\tlearn: 3107.8890917\ttotal: 1.75s\tremaining: 1.1s\n",
      "614:\tlearn: 3105.4869853\ttotal: 1.75s\tremaining: 1.1s\n",
      "615:\tlearn: 3104.2196834\ttotal: 1.76s\tremaining: 1.09s\n",
      "616:\tlearn: 3103.5374102\ttotal: 1.76s\tremaining: 1.09s\n",
      "617:\tlearn: 3103.3109070\ttotal: 1.76s\tremaining: 1.09s\n",
      "618:\tlearn: 3101.6966037\ttotal: 1.76s\tremaining: 1.08s\n",
      "619:\tlearn: 3100.8389294\ttotal: 1.76s\tremaining: 1.08s\n",
      "620:\tlearn: 3099.4308351\ttotal: 1.77s\tremaining: 1.08s\n",
      "621:\tlearn: 3097.7914198\ttotal: 1.77s\tremaining: 1.08s\n",
      "622:\tlearn: 3097.3507787\ttotal: 1.77s\tremaining: 1.07s\n",
      "623:\tlearn: 3095.7507482\ttotal: 1.77s\tremaining: 1.07s\n",
      "624:\tlearn: 3094.0602048\ttotal: 1.78s\tremaining: 1.07s\n",
      "625:\tlearn: 3091.3735986\ttotal: 1.78s\tremaining: 1.06s\n",
      "626:\tlearn: 3090.1857440\ttotal: 1.78s\tremaining: 1.06s\n",
      "627:\tlearn: 3089.5401931\ttotal: 1.78s\tremaining: 1.06s\n",
      "628:\tlearn: 3087.2949315\ttotal: 1.79s\tremaining: 1.05s\n",
      "629:\tlearn: 3085.3441095\ttotal: 1.79s\tremaining: 1.05s\n",
      "630:\tlearn: 3084.1775489\ttotal: 1.79s\tremaining: 1.05s\n",
      "631:\tlearn: 3082.1559117\ttotal: 1.79s\tremaining: 1.04s\n",
      "632:\tlearn: 3080.0459065\ttotal: 1.8s\tremaining: 1.04s\n",
      "633:\tlearn: 3078.6534837\ttotal: 1.8s\tremaining: 1.04s\n",
      "634:\tlearn: 3077.8191203\ttotal: 1.8s\tremaining: 1.03s\n",
      "635:\tlearn: 3077.4344147\ttotal: 1.8s\tremaining: 1.03s\n",
      "636:\tlearn: 3076.0977070\ttotal: 1.8s\tremaining: 1.03s\n",
      "637:\tlearn: 3075.4969044\ttotal: 1.81s\tremaining: 1.02s\n",
      "638:\tlearn: 3074.2592227\ttotal: 1.81s\tremaining: 1.02s\n",
      "639:\tlearn: 3073.3227318\ttotal: 1.81s\tremaining: 1.02s\n",
      "640:\tlearn: 3072.0797461\ttotal: 1.81s\tremaining: 1.02s\n",
      "641:\tlearn: 3071.1870597\ttotal: 1.82s\tremaining: 1.01s\n",
      "642:\tlearn: 3069.7602880\ttotal: 1.82s\tremaining: 1.01s\n",
      "643:\tlearn: 3069.2394969\ttotal: 1.82s\tremaining: 1.01s\n",
      "644:\tlearn: 3067.2405224\ttotal: 1.82s\tremaining: 1s\n",
      "645:\tlearn: 3065.3488530\ttotal: 1.83s\tremaining: 1s\n",
      "646:\tlearn: 3062.9599704\ttotal: 1.83s\tremaining: 998ms\n",
      "647:\tlearn: 3059.4412784\ttotal: 1.83s\tremaining: 995ms\n",
      "648:\tlearn: 3057.9536144\ttotal: 1.83s\tremaining: 991ms\n",
      "649:\tlearn: 3055.3639859\ttotal: 1.83s\tremaining: 989ms\n",
      "650:\tlearn: 3053.3659690\ttotal: 1.84s\tremaining: 985ms\n",
      "651:\tlearn: 3052.4547919\ttotal: 1.84s\tremaining: 982ms\n",
      "652:\tlearn: 3051.2451027\ttotal: 1.84s\tremaining: 979ms\n",
      "653:\tlearn: 3046.8332787\ttotal: 1.84s\tremaining: 976ms\n",
      "654:\tlearn: 3043.9061126\ttotal: 1.85s\tremaining: 973ms\n",
      "655:\tlearn: 3040.6038842\ttotal: 1.85s\tremaining: 970ms\n",
      "656:\tlearn: 3039.4141428\ttotal: 1.85s\tremaining: 967ms\n",
      "657:\tlearn: 3038.5891278\ttotal: 1.85s\tremaining: 964ms\n",
      "658:\tlearn: 3036.9493314\ttotal: 1.86s\tremaining: 961ms\n",
      "659:\tlearn: 3035.3736619\ttotal: 1.86s\tremaining: 958ms\n",
      "660:\tlearn: 3033.2736670\ttotal: 1.86s\tremaining: 955ms\n",
      "661:\tlearn: 3031.4358929\ttotal: 1.86s\tremaining: 952ms\n",
      "662:\tlearn: 3030.4110234\ttotal: 1.87s\tremaining: 949ms\n",
      "663:\tlearn: 3028.3542834\ttotal: 1.87s\tremaining: 946ms\n",
      "664:\tlearn: 3027.1981156\ttotal: 1.87s\tremaining: 943ms\n",
      "665:\tlearn: 3026.8035460\ttotal: 1.87s\tremaining: 939ms\n",
      "666:\tlearn: 3026.4066245\ttotal: 1.88s\tremaining: 936ms\n",
      "667:\tlearn: 3024.3258353\ttotal: 1.88s\tremaining: 933ms\n",
      "668:\tlearn: 3023.6644423\ttotal: 1.88s\tremaining: 930ms\n",
      "669:\tlearn: 3021.7770990\ttotal: 1.88s\tremaining: 927ms\n",
      "670:\tlearn: 3020.2719542\ttotal: 1.88s\tremaining: 924ms\n",
      "671:\tlearn: 3018.3979388\ttotal: 1.89s\tremaining: 921ms\n",
      "672:\tlearn: 3016.5851498\ttotal: 1.89s\tremaining: 918ms\n",
      "673:\tlearn: 3015.9265349\ttotal: 1.89s\tremaining: 915ms\n",
      "674:\tlearn: 3014.3655307\ttotal: 1.89s\tremaining: 912ms\n",
      "675:\tlearn: 3012.5251433\ttotal: 1.9s\tremaining: 909ms\n",
      "676:\tlearn: 3010.7037651\ttotal: 1.9s\tremaining: 906ms\n",
      "677:\tlearn: 3009.4363947\ttotal: 1.9s\tremaining: 904ms\n",
      "678:\tlearn: 3007.4196690\ttotal: 1.9s\tremaining: 901ms\n",
      "679:\tlearn: 3006.8233616\ttotal: 1.91s\tremaining: 898ms\n",
      "680:\tlearn: 3006.4837156\ttotal: 1.91s\tremaining: 894ms\n",
      "681:\tlearn: 3005.5834514\ttotal: 1.91s\tremaining: 891ms\n",
      "682:\tlearn: 3004.6321197\ttotal: 1.91s\tremaining: 888ms\n",
      "683:\tlearn: 3003.5230267\ttotal: 1.92s\tremaining: 885ms\n",
      "684:\tlearn: 3002.0715895\ttotal: 1.92s\tremaining: 882ms\n",
      "685:\tlearn: 3000.1479131\ttotal: 1.92s\tremaining: 879ms\n",
      "686:\tlearn: 2998.3844888\ttotal: 1.92s\tremaining: 876ms\n",
      "687:\tlearn: 2997.1263251\ttotal: 1.93s\tremaining: 873ms\n",
      "688:\tlearn: 2995.2658617\ttotal: 1.93s\tremaining: 870ms\n",
      "689:\tlearn: 2993.9542985\ttotal: 1.93s\tremaining: 867ms\n",
      "690:\tlearn: 2993.6323276\ttotal: 1.93s\tremaining: 864ms\n",
      "691:\tlearn: 2992.6330874\ttotal: 1.93s\tremaining: 861ms\n",
      "692:\tlearn: 2991.5000192\ttotal: 1.94s\tremaining: 858ms\n",
      "693:\tlearn: 2990.1915770\ttotal: 1.94s\tremaining: 855ms\n",
      "694:\tlearn: 2988.9356400\ttotal: 1.94s\tremaining: 852ms\n",
      "695:\tlearn: 2988.4176575\ttotal: 1.94s\tremaining: 849ms\n",
      "696:\tlearn: 2987.7659796\ttotal: 1.95s\tremaining: 846ms\n",
      "697:\tlearn: 2986.9388309\ttotal: 1.95s\tremaining: 843ms\n",
      "698:\tlearn: 2986.3608328\ttotal: 1.95s\tremaining: 840ms\n",
      "699:\tlearn: 2984.4332627\ttotal: 1.95s\tremaining: 837ms\n",
      "700:\tlearn: 2984.0379463\ttotal: 1.96s\tremaining: 834ms\n",
      "701:\tlearn: 2983.0446143\ttotal: 1.96s\tremaining: 831ms\n",
      "702:\tlearn: 2982.4063677\ttotal: 1.96s\tremaining: 829ms\n",
      "703:\tlearn: 2982.0364101\ttotal: 1.96s\tremaining: 826ms\n",
      "704:\tlearn: 2981.6531296\ttotal: 1.97s\tremaining: 822ms\n",
      "705:\tlearn: 2979.5586323\ttotal: 1.97s\tremaining: 820ms\n",
      "706:\tlearn: 2978.2990307\ttotal: 1.97s\tremaining: 817ms\n",
      "707:\tlearn: 2976.5514507\ttotal: 1.97s\tremaining: 814ms\n",
      "708:\tlearn: 2974.4911722\ttotal: 1.97s\tremaining: 811ms\n",
      "709:\tlearn: 2973.5632678\ttotal: 1.98s\tremaining: 808ms\n",
      "710:\tlearn: 2972.3426392\ttotal: 1.98s\tremaining: 805ms\n",
      "711:\tlearn: 2971.0485060\ttotal: 1.98s\tremaining: 801ms\n",
      "712:\tlearn: 2969.2560415\ttotal: 1.98s\tremaining: 799ms\n",
      "713:\tlearn: 2967.7040204\ttotal: 1.99s\tremaining: 796ms\n",
      "714:\tlearn: 2966.4202724\ttotal: 1.99s\tremaining: 793ms\n",
      "715:\tlearn: 2964.6717916\ttotal: 1.99s\tremaining: 790ms\n",
      "716:\tlearn: 2963.2633197\ttotal: 1.99s\tremaining: 787ms\n",
      "717:\tlearn: 2961.4719826\ttotal: 2s\tremaining: 784ms\n",
      "718:\tlearn: 2955.3055407\ttotal: 2s\tremaining: 781ms\n",
      "719:\tlearn: 2954.7047947\ttotal: 2s\tremaining: 778ms\n",
      "720:\tlearn: 2953.5474108\ttotal: 2s\tremaining: 775ms\n",
      "721:\tlearn: 2952.1863226\ttotal: 2s\tremaining: 772ms\n",
      "722:\tlearn: 2950.8662488\ttotal: 2.01s\tremaining: 769ms\n",
      "723:\tlearn: 2948.9364749\ttotal: 2.01s\tremaining: 766ms\n",
      "724:\tlearn: 2947.6717577\ttotal: 2.01s\tremaining: 763ms\n",
      "725:\tlearn: 2945.1035648\ttotal: 2.01s\tremaining: 760ms\n",
      "726:\tlearn: 2943.5339273\ttotal: 2.02s\tremaining: 757ms\n",
      "727:\tlearn: 2941.8567685\ttotal: 2.02s\tremaining: 755ms\n",
      "728:\tlearn: 2939.5236823\ttotal: 2.02s\tremaining: 752ms\n",
      "729:\tlearn: 2937.1702743\ttotal: 2.02s\tremaining: 749ms\n",
      "730:\tlearn: 2935.9418089\ttotal: 2.03s\tremaining: 746ms\n",
      "731:\tlearn: 2935.3234609\ttotal: 2.03s\tremaining: 743ms\n",
      "732:\tlearn: 2935.0983966\ttotal: 2.03s\tremaining: 740ms\n",
      "733:\tlearn: 2933.9676039\ttotal: 2.03s\tremaining: 737ms\n",
      "734:\tlearn: 2932.8899711\ttotal: 2.04s\tremaining: 734ms\n",
      "735:\tlearn: 2932.3197276\ttotal: 2.04s\tremaining: 731ms\n",
      "736:\tlearn: 2931.2868412\ttotal: 2.04s\tremaining: 728ms\n",
      "737:\tlearn: 2930.4912510\ttotal: 2.04s\tremaining: 725ms\n",
      "738:\tlearn: 2929.0540733\ttotal: 2.04s\tremaining: 722ms\n",
      "739:\tlearn: 2928.4614100\ttotal: 2.05s\tremaining: 719ms\n",
      "740:\tlearn: 2927.2370148\ttotal: 2.05s\tremaining: 716ms\n",
      "741:\tlearn: 2925.0064065\ttotal: 2.05s\tremaining: 713ms\n",
      "742:\tlearn: 2923.6113849\ttotal: 2.05s\tremaining: 711ms\n",
      "743:\tlearn: 2921.8953204\ttotal: 2.06s\tremaining: 708ms\n",
      "744:\tlearn: 2921.5084670\ttotal: 2.06s\tremaining: 705ms\n",
      "745:\tlearn: 2919.3699432\ttotal: 2.06s\tremaining: 702ms\n",
      "746:\tlearn: 2918.9048599\ttotal: 2.06s\tremaining: 699ms\n",
      "747:\tlearn: 2916.6365305\ttotal: 2.07s\tremaining: 696ms\n",
      "748:\tlearn: 2915.9052464\ttotal: 2.07s\tremaining: 693ms\n",
      "749:\tlearn: 2914.7669836\ttotal: 2.07s\tremaining: 690ms\n",
      "750:\tlearn: 2914.3969185\ttotal: 2.07s\tremaining: 688ms\n",
      "751:\tlearn: 2912.9887030\ttotal: 2.08s\tremaining: 685ms\n",
      "752:\tlearn: 2912.4115469\ttotal: 2.08s\tremaining: 682ms\n",
      "753:\tlearn: 2911.5668383\ttotal: 2.08s\tremaining: 679ms\n",
      "754:\tlearn: 2910.4380722\ttotal: 2.08s\tremaining: 676ms\n",
      "755:\tlearn: 2909.8917410\ttotal: 2.08s\tremaining: 673ms\n",
      "756:\tlearn: 2908.5192024\ttotal: 2.09s\tremaining: 670ms\n",
      "757:\tlearn: 2908.0096946\ttotal: 2.09s\tremaining: 667ms\n",
      "758:\tlearn: 2906.3351690\ttotal: 2.09s\tremaining: 664ms\n",
      "759:\tlearn: 2905.8094679\ttotal: 2.09s\tremaining: 661ms\n",
      "760:\tlearn: 2904.9478657\ttotal: 2.1s\tremaining: 658ms\n",
      "761:\tlearn: 2904.3882291\ttotal: 2.1s\tremaining: 655ms\n",
      "762:\tlearn: 2903.3011845\ttotal: 2.1s\tremaining: 653ms\n",
      "763:\tlearn: 2900.8126895\ttotal: 2.1s\tremaining: 650ms\n",
      "764:\tlearn: 2899.8665738\ttotal: 2.1s\tremaining: 647ms\n",
      "765:\tlearn: 2899.6473563\ttotal: 2.11s\tremaining: 644ms\n",
      "766:\tlearn: 2898.7956303\ttotal: 2.11s\tremaining: 641ms\n",
      "767:\tlearn: 2898.3764405\ttotal: 2.11s\tremaining: 638ms\n",
      "768:\tlearn: 2896.7434253\ttotal: 2.11s\tremaining: 635ms\n",
      "769:\tlearn: 2895.5260964\ttotal: 2.12s\tremaining: 632ms\n",
      "770:\tlearn: 2891.8529054\ttotal: 2.12s\tremaining: 629ms\n",
      "771:\tlearn: 2891.3139744\ttotal: 2.12s\tremaining: 627ms\n",
      "772:\tlearn: 2889.9522209\ttotal: 2.12s\tremaining: 624ms\n"
     ]
    },
    {
     "name": "stdout",
     "output_type": "stream",
     "text": [
      "773:\tlearn: 2887.9483048\ttotal: 2.13s\tremaining: 621ms\n",
      "774:\tlearn: 2887.3619820\ttotal: 2.13s\tremaining: 618ms\n",
      "775:\tlearn: 2885.5647976\ttotal: 2.13s\tremaining: 616ms\n",
      "776:\tlearn: 2883.9804825\ttotal: 2.13s\tremaining: 613ms\n",
      "777:\tlearn: 2883.6439990\ttotal: 2.14s\tremaining: 610ms\n",
      "778:\tlearn: 2883.5530836\ttotal: 2.14s\tremaining: 607ms\n",
      "779:\tlearn: 2883.2030537\ttotal: 2.14s\tremaining: 604ms\n",
      "780:\tlearn: 2882.5399804\ttotal: 2.14s\tremaining: 601ms\n",
      "781:\tlearn: 2881.6486260\ttotal: 2.15s\tremaining: 598ms\n",
      "782:\tlearn: 2880.2132746\ttotal: 2.15s\tremaining: 595ms\n",
      "783:\tlearn: 2878.9137995\ttotal: 2.15s\tremaining: 592ms\n",
      "784:\tlearn: 2876.4524128\ttotal: 2.15s\tremaining: 590ms\n",
      "785:\tlearn: 2875.4594623\ttotal: 2.15s\tremaining: 587ms\n",
      "786:\tlearn: 2874.6694859\ttotal: 2.16s\tremaining: 584ms\n",
      "787:\tlearn: 2872.4887780\ttotal: 2.16s\tremaining: 581ms\n",
      "788:\tlearn: 2871.6997066\ttotal: 2.16s\tremaining: 578ms\n",
      "789:\tlearn: 2870.9783282\ttotal: 2.16s\tremaining: 575ms\n",
      "790:\tlearn: 2868.9293296\ttotal: 2.17s\tremaining: 572ms\n",
      "791:\tlearn: 2867.9152769\ttotal: 2.17s\tremaining: 569ms\n",
      "792:\tlearn: 2866.1262747\ttotal: 2.17s\tremaining: 567ms\n",
      "793:\tlearn: 2865.6668210\ttotal: 2.17s\tremaining: 564ms\n",
      "794:\tlearn: 2865.3859518\ttotal: 2.17s\tremaining: 561ms\n",
      "795:\tlearn: 2863.4746740\ttotal: 2.18s\tremaining: 558ms\n",
      "796:\tlearn: 2861.7698282\ttotal: 2.18s\tremaining: 555ms\n",
      "797:\tlearn: 2860.4635138\ttotal: 2.18s\tremaining: 552ms\n",
      "798:\tlearn: 2860.0855234\ttotal: 2.18s\tremaining: 550ms\n",
      "799:\tlearn: 2857.6671520\ttotal: 2.19s\tremaining: 547ms\n",
      "800:\tlearn: 2855.7732670\ttotal: 2.19s\tremaining: 544ms\n",
      "801:\tlearn: 2854.8109505\ttotal: 2.19s\tremaining: 541ms\n",
      "802:\tlearn: 2853.1590066\ttotal: 2.19s\tremaining: 538ms\n",
      "803:\tlearn: 2851.8389704\ttotal: 2.19s\tremaining: 535ms\n",
      "804:\tlearn: 2850.8547850\ttotal: 2.2s\tremaining: 532ms\n",
      "805:\tlearn: 2850.1617934\ttotal: 2.2s\tremaining: 529ms\n",
      "806:\tlearn: 2848.8304752\ttotal: 2.2s\tremaining: 527ms\n",
      "807:\tlearn: 2847.9308110\ttotal: 2.2s\tremaining: 524ms\n",
      "808:\tlearn: 2846.6975820\ttotal: 2.21s\tremaining: 521ms\n",
      "809:\tlearn: 2844.9884939\ttotal: 2.21s\tremaining: 518ms\n",
      "810:\tlearn: 2844.4522532\ttotal: 2.21s\tremaining: 515ms\n",
      "811:\tlearn: 2842.8461231\ttotal: 2.21s\tremaining: 512ms\n",
      "812:\tlearn: 2841.4669729\ttotal: 2.21s\tremaining: 510ms\n",
      "813:\tlearn: 2838.3414838\ttotal: 2.22s\tremaining: 507ms\n",
      "814:\tlearn: 2835.8382774\ttotal: 2.22s\tremaining: 504ms\n",
      "815:\tlearn: 2835.5709046\ttotal: 2.22s\tremaining: 501ms\n",
      "816:\tlearn: 2833.8158963\ttotal: 2.22s\tremaining: 498ms\n",
      "817:\tlearn: 2833.1732104\ttotal: 2.23s\tremaining: 495ms\n",
      "818:\tlearn: 2832.0716749\ttotal: 2.23s\tremaining: 493ms\n",
      "819:\tlearn: 2831.5009951\ttotal: 2.23s\tremaining: 490ms\n",
      "820:\tlearn: 2829.5146697\ttotal: 2.23s\tremaining: 487ms\n",
      "821:\tlearn: 2828.6953639\ttotal: 2.24s\tremaining: 484ms\n",
      "822:\tlearn: 2827.7933602\ttotal: 2.24s\tremaining: 481ms\n",
      "823:\tlearn: 2826.9677666\ttotal: 2.24s\tremaining: 479ms\n",
      "824:\tlearn: 2826.0765454\ttotal: 2.24s\tremaining: 476ms\n",
      "825:\tlearn: 2824.9295557\ttotal: 2.24s\tremaining: 473ms\n",
      "826:\tlearn: 2823.8020504\ttotal: 2.25s\tremaining: 470ms\n",
      "827:\tlearn: 2823.0203916\ttotal: 2.25s\tremaining: 467ms\n",
      "828:\tlearn: 2821.0175363\ttotal: 2.25s\tremaining: 464ms\n",
      "829:\tlearn: 2819.1326682\ttotal: 2.25s\tremaining: 462ms\n",
      "830:\tlearn: 2818.4763287\ttotal: 2.25s\tremaining: 459ms\n",
      "831:\tlearn: 2817.3457857\ttotal: 2.26s\tremaining: 456ms\n",
      "832:\tlearn: 2816.2907810\ttotal: 2.26s\tremaining: 453ms\n",
      "833:\tlearn: 2815.4009813\ttotal: 2.26s\tremaining: 450ms\n",
      "834:\tlearn: 2814.2505056\ttotal: 2.27s\tremaining: 448ms\n",
      "835:\tlearn: 2813.1645683\ttotal: 2.27s\tremaining: 445ms\n",
      "836:\tlearn: 2812.5357406\ttotal: 2.27s\tremaining: 442ms\n",
      "837:\tlearn: 2810.9784966\ttotal: 2.27s\tremaining: 439ms\n",
      "838:\tlearn: 2808.6701122\ttotal: 2.27s\tremaining: 436ms\n",
      "839:\tlearn: 2807.9040412\ttotal: 2.28s\tremaining: 434ms\n",
      "840:\tlearn: 2804.7128017\ttotal: 2.28s\tremaining: 431ms\n",
      "841:\tlearn: 2803.7177275\ttotal: 2.28s\tremaining: 428ms\n",
      "842:\tlearn: 2800.6926713\ttotal: 2.28s\tremaining: 425ms\n",
      "843:\tlearn: 2799.6040884\ttotal: 2.29s\tremaining: 422ms\n",
      "844:\tlearn: 2798.2632436\ttotal: 2.29s\tremaining: 420ms\n",
      "845:\tlearn: 2796.5656436\ttotal: 2.29s\tremaining: 417ms\n",
      "846:\tlearn: 2795.6041054\ttotal: 2.29s\tremaining: 414ms\n",
      "847:\tlearn: 2794.7973179\ttotal: 2.29s\tremaining: 411ms\n",
      "848:\tlearn: 2792.9677901\ttotal: 2.3s\tremaining: 409ms\n",
      "849:\tlearn: 2791.4992165\ttotal: 2.3s\tremaining: 406ms\n",
      "850:\tlearn: 2789.8543385\ttotal: 2.3s\tremaining: 403ms\n",
      "851:\tlearn: 2788.0483904\ttotal: 2.31s\tremaining: 400ms\n",
      "852:\tlearn: 2786.5446647\ttotal: 2.31s\tremaining: 398ms\n",
      "853:\tlearn: 2784.6856457\ttotal: 2.31s\tremaining: 395ms\n",
      "854:\tlearn: 2783.3708183\ttotal: 2.31s\tremaining: 392ms\n",
      "855:\tlearn: 2782.3163119\ttotal: 2.31s\tremaining: 389ms\n",
      "856:\tlearn: 2780.5536389\ttotal: 2.32s\tremaining: 386ms\n",
      "857:\tlearn: 2779.2650145\ttotal: 2.32s\tremaining: 384ms\n",
      "858:\tlearn: 2776.8790857\ttotal: 2.32s\tremaining: 381ms\n",
      "859:\tlearn: 2776.0633146\ttotal: 2.32s\tremaining: 378ms\n",
      "860:\tlearn: 2774.9680115\ttotal: 2.33s\tremaining: 375ms\n",
      "861:\tlearn: 2774.0073893\ttotal: 2.33s\tremaining: 373ms\n",
      "862:\tlearn: 2772.3754076\ttotal: 2.33s\tremaining: 370ms\n",
      "863:\tlearn: 2770.7725187\ttotal: 2.33s\tremaining: 367ms\n",
      "864:\tlearn: 2770.0061063\ttotal: 2.33s\tremaining: 364ms\n",
      "865:\tlearn: 2768.0414893\ttotal: 2.34s\tremaining: 362ms\n",
      "866:\tlearn: 2766.5100963\ttotal: 2.34s\tremaining: 359ms\n",
      "867:\tlearn: 2765.7806486\ttotal: 2.34s\tremaining: 356ms\n",
      "868:\tlearn: 2764.9607061\ttotal: 2.34s\tremaining: 353ms\n",
      "869:\tlearn: 2763.4719656\ttotal: 2.35s\tremaining: 351ms\n",
      "870:\tlearn: 2761.2690509\ttotal: 2.35s\tremaining: 348ms\n",
      "871:\tlearn: 2759.4605874\ttotal: 2.35s\tremaining: 345ms\n",
      "872:\tlearn: 2758.4659849\ttotal: 2.35s\tremaining: 342ms\n",
      "873:\tlearn: 2756.6057593\ttotal: 2.35s\tremaining: 340ms\n",
      "874:\tlearn: 2755.7058734\ttotal: 2.36s\tremaining: 337ms\n",
      "875:\tlearn: 2753.8405408\ttotal: 2.36s\tremaining: 334ms\n",
      "876:\tlearn: 2753.2891419\ttotal: 2.36s\tremaining: 331ms\n",
      "877:\tlearn: 2752.6462961\ttotal: 2.36s\tremaining: 329ms\n",
      "878:\tlearn: 2749.0961238\ttotal: 2.37s\tremaining: 326ms\n",
      "879:\tlearn: 2747.8458230\ttotal: 2.37s\tremaining: 323ms\n",
      "880:\tlearn: 2746.8622949\ttotal: 2.37s\tremaining: 320ms\n",
      "881:\tlearn: 2745.7354568\ttotal: 2.37s\tremaining: 318ms\n",
      "882:\tlearn: 2744.6399557\ttotal: 2.38s\tremaining: 315ms\n",
      "883:\tlearn: 2743.4242748\ttotal: 2.38s\tremaining: 312ms\n",
      "884:\tlearn: 2741.3678632\ttotal: 2.38s\tremaining: 309ms\n",
      "885:\tlearn: 2740.4847678\ttotal: 2.38s\tremaining: 307ms\n",
      "886:\tlearn: 2739.0752782\ttotal: 2.38s\tremaining: 304ms\n",
      "887:\tlearn: 2737.7346943\ttotal: 2.39s\tremaining: 301ms\n",
      "888:\tlearn: 2737.5106871\ttotal: 2.39s\tremaining: 298ms\n",
      "889:\tlearn: 2736.6095019\ttotal: 2.39s\tremaining: 296ms\n",
      "890:\tlearn: 2734.3942037\ttotal: 2.39s\tremaining: 293ms\n",
      "891:\tlearn: 2733.8810527\ttotal: 2.4s\tremaining: 290ms\n",
      "892:\tlearn: 2733.2023174\ttotal: 2.4s\tremaining: 287ms\n",
      "893:\tlearn: 2732.5612791\ttotal: 2.4s\tremaining: 285ms\n",
      "894:\tlearn: 2731.0322929\ttotal: 2.4s\tremaining: 282ms\n",
      "895:\tlearn: 2730.3375658\ttotal: 2.4s\tremaining: 279ms\n",
      "896:\tlearn: 2729.6386830\ttotal: 2.41s\tremaining: 277ms\n",
      "897:\tlearn: 2729.1132577\ttotal: 2.41s\tremaining: 274ms\n",
      "898:\tlearn: 2727.4592513\ttotal: 2.41s\tremaining: 271ms\n",
      "899:\tlearn: 2726.5203779\ttotal: 2.41s\tremaining: 268ms\n",
      "900:\tlearn: 2725.6516709\ttotal: 2.42s\tremaining: 266ms\n",
      "901:\tlearn: 2724.4083209\ttotal: 2.42s\tremaining: 263ms\n",
      "902:\tlearn: 2722.4199878\ttotal: 2.42s\tremaining: 260ms\n",
      "903:\tlearn: 2721.8907545\ttotal: 2.42s\tremaining: 257ms\n",
      "904:\tlearn: 2721.0552974\ttotal: 2.43s\tremaining: 255ms\n",
      "905:\tlearn: 2719.9356166\ttotal: 2.43s\tremaining: 252ms\n",
      "906:\tlearn: 2718.6723626\ttotal: 2.43s\tremaining: 249ms\n",
      "907:\tlearn: 2717.4324356\ttotal: 2.43s\tremaining: 247ms\n",
      "908:\tlearn: 2716.2202939\ttotal: 2.44s\tremaining: 244ms\n",
      "909:\tlearn: 2715.5155020\ttotal: 2.44s\tremaining: 241ms\n",
      "910:\tlearn: 2714.6915963\ttotal: 2.44s\tremaining: 238ms\n",
      "911:\tlearn: 2713.9821879\ttotal: 2.44s\tremaining: 236ms\n",
      "912:\tlearn: 2712.8612930\ttotal: 2.44s\tremaining: 233ms\n",
      "913:\tlearn: 2712.4981857\ttotal: 2.45s\tremaining: 230ms\n",
      "914:\tlearn: 2711.4699479\ttotal: 2.45s\tremaining: 228ms\n",
      "915:\tlearn: 2710.2860034\ttotal: 2.45s\tremaining: 225ms\n",
      "916:\tlearn: 2708.8646800\ttotal: 2.45s\tremaining: 222ms\n",
      "917:\tlearn: 2707.0667163\ttotal: 2.46s\tremaining: 219ms\n",
      "918:\tlearn: 2705.6258603\ttotal: 2.46s\tremaining: 217ms\n",
      "919:\tlearn: 2704.4477340\ttotal: 2.46s\tremaining: 214ms\n",
      "920:\tlearn: 2704.0591985\ttotal: 2.46s\tremaining: 211ms\n",
      "921:\tlearn: 2703.9522841\ttotal: 2.46s\tremaining: 209ms\n",
      "922:\tlearn: 2703.1372934\ttotal: 2.47s\tremaining: 206ms\n",
      "923:\tlearn: 2701.5202863\ttotal: 2.47s\tremaining: 203ms\n",
      "924:\tlearn: 2699.2884719\ttotal: 2.47s\tremaining: 200ms\n",
      "925:\tlearn: 2698.9010337\ttotal: 2.47s\tremaining: 198ms\n",
      "926:\tlearn: 2695.8724463\ttotal: 2.48s\tremaining: 195ms\n",
      "927:\tlearn: 2694.2847589\ttotal: 2.48s\tremaining: 192ms\n",
      "928:\tlearn: 2693.2666463\ttotal: 2.48s\tremaining: 190ms\n",
      "929:\tlearn: 2692.0920332\ttotal: 2.48s\tremaining: 187ms\n",
      "930:\tlearn: 2690.7117575\ttotal: 2.49s\tremaining: 184ms\n",
      "931:\tlearn: 2690.3255558\ttotal: 2.49s\tremaining: 182ms\n",
      "932:\tlearn: 2688.9754116\ttotal: 2.49s\tremaining: 179ms\n",
      "933:\tlearn: 2687.1064673\ttotal: 2.49s\tremaining: 176ms\n",
      "934:\tlearn: 2685.6506436\ttotal: 2.5s\tremaining: 173ms\n",
      "935:\tlearn: 2684.5754832\ttotal: 2.5s\tremaining: 171ms\n",
      "936:\tlearn: 2684.1846181\ttotal: 2.5s\tremaining: 168ms\n",
      "937:\tlearn: 2682.4344032\ttotal: 2.5s\tremaining: 165ms\n",
      "938:\tlearn: 2679.0038033\ttotal: 2.5s\tremaining: 163ms\n",
      "939:\tlearn: 2677.9956985\ttotal: 2.51s\tremaining: 160ms\n",
      "940:\tlearn: 2677.1550551\ttotal: 2.51s\tremaining: 157ms\n",
      "941:\tlearn: 2676.1555602\ttotal: 2.51s\tremaining: 155ms\n",
      "942:\tlearn: 2674.2851050\ttotal: 2.51s\tremaining: 152ms\n",
      "943:\tlearn: 2673.6160159\ttotal: 2.52s\tremaining: 149ms\n",
      "944:\tlearn: 2673.0382597\ttotal: 2.52s\tremaining: 147ms\n",
      "945:\tlearn: 2672.0621114\ttotal: 2.52s\tremaining: 144ms\n",
      "946:\tlearn: 2670.1493454\ttotal: 2.52s\tremaining: 141ms\n",
      "947:\tlearn: 2669.2363260\ttotal: 2.52s\tremaining: 138ms\n",
      "948:\tlearn: 2668.1100234\ttotal: 2.53s\tremaining: 136ms\n",
      "949:\tlearn: 2667.3607600\ttotal: 2.53s\tremaining: 133ms\n",
      "950:\tlearn: 2665.2072428\ttotal: 2.53s\tremaining: 130ms\n",
      "951:\tlearn: 2664.5571606\ttotal: 2.53s\tremaining: 128ms\n",
      "952:\tlearn: 2663.8212979\ttotal: 2.54s\tremaining: 125ms\n",
      "953:\tlearn: 2663.0491969\ttotal: 2.54s\tremaining: 122ms\n",
      "954:\tlearn: 2662.3806286\ttotal: 2.54s\tremaining: 120ms\n",
      "955:\tlearn: 2661.1879464\ttotal: 2.54s\tremaining: 117ms\n",
      "956:\tlearn: 2660.1370253\ttotal: 2.54s\tremaining: 114ms\n",
      "957:\tlearn: 2659.6955289\ttotal: 2.55s\tremaining: 112ms\n",
      "958:\tlearn: 2657.1653054\ttotal: 2.55s\tremaining: 109ms\n",
      "959:\tlearn: 2656.6690252\ttotal: 2.55s\tremaining: 106ms\n",
      "960:\tlearn: 2655.1183704\ttotal: 2.56s\tremaining: 104ms\n",
      "961:\tlearn: 2655.0276781\ttotal: 2.56s\tremaining: 101ms\n",
      "962:\tlearn: 2652.8105001\ttotal: 2.56s\tremaining: 98.4ms\n",
      "963:\tlearn: 2651.6727356\ttotal: 2.56s\tremaining: 95.7ms\n",
      "964:\tlearn: 2650.6442882\ttotal: 2.56s\tremaining: 93.1ms\n",
      "965:\tlearn: 2648.9010485\ttotal: 2.57s\tremaining: 90.4ms\n",
      "966:\tlearn: 2647.4444834\ttotal: 2.57s\tremaining: 87.8ms\n",
      "967:\tlearn: 2646.5978852\ttotal: 2.58s\tremaining: 85.2ms\n",
      "968:\tlearn: 2644.4665597\ttotal: 2.58s\tremaining: 82.5ms\n",
      "969:\tlearn: 2643.8960044\ttotal: 2.58s\tremaining: 79.8ms\n",
      "970:\tlearn: 2642.5204374\ttotal: 2.58s\tremaining: 77.2ms\n",
      "971:\tlearn: 2640.4629868\ttotal: 2.59s\tremaining: 74.6ms\n",
      "972:\tlearn: 2639.1700809\ttotal: 2.59s\tremaining: 71.9ms\n",
      "973:\tlearn: 2638.1687640\ttotal: 2.59s\tremaining: 69.2ms\n",
      "974:\tlearn: 2637.0116574\ttotal: 2.6s\tremaining: 66.6ms\n",
      "975:\tlearn: 2635.5983293\ttotal: 2.6s\tremaining: 64ms\n",
      "976:\tlearn: 2635.2256777\ttotal: 2.6s\tremaining: 61.3ms\n",
      "977:\tlearn: 2634.0035917\ttotal: 2.61s\tremaining: 58.6ms\n",
      "978:\tlearn: 2633.5250335\ttotal: 2.61s\tremaining: 56ms\n",
      "979:\tlearn: 2632.0593357\ttotal: 2.61s\tremaining: 53.3ms\n",
      "980:\tlearn: 2629.1307499\ttotal: 2.62s\tremaining: 50.7ms\n",
      "981:\tlearn: 2626.7654636\ttotal: 2.62s\tremaining: 48ms\n"
     ]
    },
    {
     "name": "stdout",
     "output_type": "stream",
     "text": [
      "982:\tlearn: 2625.2367970\ttotal: 2.62s\tremaining: 45.3ms\n",
      "983:\tlearn: 2622.5947170\ttotal: 2.62s\tremaining: 42.7ms\n",
      "984:\tlearn: 2620.7360200\ttotal: 2.63s\tremaining: 40.1ms\n",
      "985:\tlearn: 2618.9319289\ttotal: 2.63s\tremaining: 37.4ms\n",
      "986:\tlearn: 2617.7926334\ttotal: 2.63s\tremaining: 34.7ms\n",
      "987:\tlearn: 2616.8804816\ttotal: 2.64s\tremaining: 32ms\n",
      "988:\tlearn: 2615.5301186\ttotal: 2.64s\tremaining: 29.4ms\n",
      "989:\tlearn: 2614.1419900\ttotal: 2.64s\tremaining: 26.7ms\n",
      "990:\tlearn: 2612.4823807\ttotal: 2.65s\tremaining: 24ms\n",
      "991:\tlearn: 2612.2480547\ttotal: 2.65s\tremaining: 21.4ms\n",
      "992:\tlearn: 2611.0430415\ttotal: 2.65s\tremaining: 18.7ms\n",
      "993:\tlearn: 2610.3729205\ttotal: 2.66s\tremaining: 16ms\n",
      "994:\tlearn: 2606.8508640\ttotal: 2.66s\tremaining: 13.4ms\n",
      "995:\tlearn: 2606.6327071\ttotal: 2.66s\tremaining: 10.7ms\n",
      "996:\tlearn: 2605.6818371\ttotal: 2.67s\tremaining: 8.02ms\n",
      "997:\tlearn: 2605.4373715\ttotal: 2.67s\tremaining: 5.34ms\n",
      "998:\tlearn: 2603.1423706\ttotal: 2.67s\tremaining: 2.67ms\n",
      "999:\tlearn: 2602.2304988\ttotal: 2.67s\tremaining: 0us\n"
     ]
    },
    {
     "data": {
      "text/plain": [
       "<catboost.core.CatBoostRegressor at 0x1858e263430>"
      ]
     },
     "execution_count": 80,
     "metadata": {},
     "output_type": "execute_result"
    }
   ],
   "source": [
    "cat_reg.fit(x_train, y_train)"
   ]
  },
  {
   "cell_type": "code",
   "execution_count": 81,
   "id": "3cb2c26c",
   "metadata": {},
   "outputs": [],
   "source": [
    "pred_cat = cat_reg.predict(x_test)"
   ]
  },
  {
   "cell_type": "code",
   "execution_count": 82,
   "id": "09a10f1d",
   "metadata": {},
   "outputs": [],
   "source": [
    "r2_cat = metrics.r2_score(y_test, pred_cat)*100"
   ]
  },
  {
   "cell_type": "code",
   "execution_count": 83,
   "id": "fc9e1256",
   "metadata": {},
   "outputs": [
    {
     "data": {
      "text/plain": [
       "85.69828504968638"
      ]
     },
     "execution_count": 83,
     "metadata": {},
     "output_type": "execute_result"
    }
   ],
   "source": [
    "r2_cat"
   ]
  },
  {
   "cell_type": "code",
   "execution_count": 84,
   "id": "d0e15f5b",
   "metadata": {},
   "outputs": [
    {
     "name": "stdout",
     "output_type": "stream",
     "text": [
      "4579.278388882698\n"
     ]
    }
   ],
   "source": [
    "#calculate RMSE\n",
    "rmse6= sqrt(mean_squared_error(y_test,pred_cat))\n",
    "print(rmse6) "
   ]
  },
  {
   "cell_type": "code",
   "execution_count": 85,
   "id": "9610bd99",
   "metadata": {},
   "outputs": [
    {
     "name": "stdout",
     "output_type": "stream",
     "text": [
      "2524.818062984316\n"
     ]
    }
   ],
   "source": [
    "##calculate mean absolute error\n",
    "print((mean_absolute_error(y_test,pred_cat)))"
   ]
  },
  {
   "cell_type": "code",
   "execution_count": 86,
   "id": "dd879237",
   "metadata": {},
   "outputs": [
    {
     "name": "stdout",
     "output_type": "stream",
     "text": [
      "[41386.57880793]\n",
      "The insurance cost is USD: [41386.57880793]\n"
     ]
    }
   ],
   "source": [
    "input_data= (37,1,37.07,1,0,1) ##37,male,37.07,1,yes,southeast,39871.7043\n",
    "\n",
    "## changing input data into numpy array\n",
    "k = np.asarray(input_data)\n",
    "\n",
    "## reshape the array\n",
    "z = k.reshape(1,-1)\n",
    "\n",
    "pred = cat_reg.predict(z)\n",
    "print(pred)\n",
    "\n",
    "print(\"The insurance cost is USD:\" , pred)"
   ]
  },
  {
   "cell_type": "code",
   "execution_count": null,
   "id": "62ed2739",
   "metadata": {},
   "outputs": [],
   "source": []
  },
  {
   "cell_type": "code",
   "execution_count": null,
   "id": "21348706",
   "metadata": {},
   "outputs": [],
   "source": []
  },
  {
   "cell_type": "code",
   "execution_count": 87,
   "id": "cb27542b",
   "metadata": {},
   "outputs": [],
   "source": [
    "algorithms=['Lin-Reg', 'DT', 'SVR', 'RF', 'XGB', 'CB']\n",
    "R2_scores=[r2_linear, r2_dt,r2_sv,r2_rf,r2_xgb , r2_cat]"
   ]
  },
  {
   "cell_type": "code",
   "execution_count": 88,
   "id": "bacebf36",
   "metadata": {},
   "outputs": [
    {
     "data": {
      "text/plain": [
       "<AxesSubplot:>"
      ]
     },
     "execution_count": 88,
     "metadata": {},
     "output_type": "execute_result"
    },
    {
     "data": {
      "image/png": "[encoded data removed]",
      "text/plain": [
       "<Figure size 432x288 with 1 Axes>"
      ]
     },
     "metadata": {},
     "output_type": "display_data"
    }
   ],
   "source": [
    "sns.barplot(x=algorithms, y=R2_scores)"
   ]
  },
  {
   "cell_type": "markdown",
   "id": "37414b2a",
   "metadata": {},
   "source": [
    "- The best R2 score is given by Catboost"
   ]
  },
  {
   "cell_type": "code",
   "execution_count": null,
   "id": "314ac78f",
   "metadata": {},
   "outputs": [],
   "source": []
  },
  {
   "cell_type": "code",
   "execution_count": null,
   "id": "61183079",
   "metadata": {},
   "outputs": [],
   "source": []
  },
  {
   "cell_type": "code",
   "execution_count": 89,
   "id": "77a5b3ed",
   "metadata": {},
   "outputs": [],
   "source": [
    "algorithms=['Lin-Reg', 'DT', 'SVR', 'RF', 'XGB', 'CB']\n",
    "RMSE=[rmse1,rmse2,rmse3,rmse4,rmse5,rmse6]"
   ]
  },
  {
   "cell_type": "code",
   "execution_count": 90,
   "id": "bf3cdc64",
   "metadata": {},
   "outputs": [
    {
     "data": {
      "text/plain": [
       "<AxesSubplot:>"
      ]
     },
     "execution_count": 90,
     "metadata": {},
     "output_type": "execute_result"
    },
    {
     "data": {
      "image/png": "[encoded data removed]",
      "text/plain": [
       "<Figure size 432x288 with 1 Axes>"
      ]
     },
     "metadata": {},
     "output_type": "display_data"
    }
   ],
   "source": [
    "sns.barplot(x=algorithms,y= RMSE)"
   ]
  },
  {
   "cell_type": "markdown",
   "id": "d056acb5",
   "metadata": {},
   "source": [
    "- The lower the RMSE, the better a given model is able to “fit” a dataset.\n",
    "- And the lowest is given by Catboost"
   ]
  },
  {
   "cell_type": "code",
   "execution_count": null,
   "id": "432b4bb4",
   "metadata": {},
   "outputs": [],
   "source": []
  },
  {
   "cell_type": "code",
   "execution_count": null,
   "id": "6b601d57",
   "metadata": {},
   "outputs": [],
   "source": []
  },
  {
   "cell_type": "markdown",
   "id": "182d762f",
   "metadata": {},
   "source": [
    "## Conclusion"
   ]
  },
  {
   "cell_type": "markdown",
   "id": "0575fa35",
   "metadata": {},
   "source": [
    "#### Catboost algorithm performs better compared to other algorithms"
   ]
  },
  {
   "cell_type": "code",
   "execution_count": null,
   "id": "c1999b36",
   "metadata": {},
   "outputs": [],
   "source": []
  },
  {
   "cell_type": "code",
   "execution_count": null,
   "id": "0ed15ede",
   "metadata": {},
   "outputs": [],
   "source": []
  },
  {
   "cell_type": "code",
   "execution_count": null,
   "id": "9f5bda86",
   "metadata": {},
   "outputs": [],
   "source": []
  },
  {
   "cell_type": "code",
   "execution_count": null,
   "id": "1583a564",
   "metadata": {},
   "outputs": [],
   "source": []
  },
  {
   "cell_type": "code",
   "execution_count": null,
   "id": "da383971",
   "metadata": {},
   "outputs": [],
   "source": []
  },
  {
   "cell_type": "code",
   "execution_count": null,
   "id": "d7065926",
   "metadata": {},
   "outputs": [],
   "source": []
  },
  {
   "cell_type": "code",
   "execution_count": null,
   "id": "5a678363",
   "metadata": {},
   "outputs": [],
   "source": []
  },
  {
   "cell_type": "code",
   "execution_count": null,
   "id": "33a15c1a",
   "metadata": {},
   "outputs": [],
   "source": []
  },
  {
   "cell_type": "code",
   "execution_count": null,
   "id": "ab319ae3",
   "metadata": {},
   "outputs": [],
   "source": []
  },
  {
   "cell_type": "code",
   "execution_count": null,
   "id": "9cd38e9b",
   "metadata": {},
   "outputs": [],
   "source": []
  },
  {
   "cell_type": "code",
   "execution_count": null,
   "id": "27698b5c",
   "metadata": {},
   "outputs": [],
   "source": []
  },
  {
   "cell_type": "code",
   "execution_count": null,
   "id": "e882365b",
   "metadata": {},
   "outputs": [],
   "source": []
  },
  {
   "cell_type": "code",
   "execution_count": null,
   "id": "f0f22af3",
   "metadata": {},
   "outputs": [],
   "source": []
  },
  {
   "cell_type": "code",
   "execution_count": null,
   "id": "8e46f186",
   "metadata": {},
   "outputs": [],
   "source": []
  },
  {
   "cell_type": "code",
   "execution_count": null,
   "id": "a7942622",
   "metadata": {},
   "outputs": [],
   "source": []
  },
  {
   "cell_type": "code",
   "execution_count": null,
   "id": "6096c980",
   "metadata": {},
   "outputs": [],
   "source": []
  },
  {
   "cell_type": "code",
   "execution_count": null,
   "id": "d5963e78",
   "metadata": {},
   "outputs": [],
   "source": []
  },
  {
   "cell_type": "code",
   "execution_count": null,
   "id": "bfb1ef51",
   "metadata": {},
   "outputs": [],
   "source": []
  },
  {
   "cell_type": "code",
   "execution_count": null,
   "id": "134d0480",
   "metadata": {},
   "outputs": [],
   "source": []
  },
  {
   "cell_type": "code",
   "execution_count": null,
   "id": "06a75a36",
   "metadata": {},
   "outputs": [],
   "source": []
  },
  {
   "cell_type": "code",
   "execution_count": null,
   "id": "563e5a19",
   "metadata": {},
   "outputs": [],
   "source": []
  },
  {
   "cell_type": "code",
   "execution_count": null,
   "id": "92184cd2",
   "metadata": {},
   "outputs": [],
   "source": []
  },
  {
   "cell_type": "code",
   "execution_count": null,
   "id": "eafdd0c1",
   "metadata": {},
   "outputs": [],
   "source": []
  },
  {
   "cell_type": "code",
   "execution_count": null,
   "id": "e4be1007",
   "metadata": {},
   "outputs": [],
   "source": []
  },
  {
   "cell_type": "code",
   "execution_count": null,
   "id": "c40ed208",
   "metadata": {},
   "outputs": [],
   "source": []
  },
  {
   "cell_type": "code",
   "execution_count": null,
   "id": "17891516",
   "metadata": {},
   "outputs": [],
   "source": []
  },
  {
   "cell_type": "code",
   "execution_count": null,
   "id": "00cfeac7",
   "metadata": {},
   "outputs": [],
   "source": []
  },
  {
   "cell_type": "code",
   "execution_count": null,
   "id": "1b515cc5",
   "metadata": {},
   "outputs": [],
   "source": []
  },
  {
   "cell_type": "code",
   "execution_count": null,
   "id": "352f41bb",
   "metadata": {},
   "outputs": [],
   "source": []
  },
  {
   "cell_type": "code",
   "execution_count": null,
   "id": "162c460b",
   "metadata": {},
   "outputs": [],
   "source": []
  },
  {
   "cell_type": "code",
   "execution_count": null,
   "id": "b933ec8d",
   "metadata": {},
   "outputs": [],
   "source": []
  },
  {
   "cell_type": "code",
   "execution_count": null,
   "id": "17d5252b",
   "metadata": {},
   "outputs": [],
   "source": []
  },
  {
   "cell_type": "code",
   "execution_count": null,
   "id": "cdf5ddcc",
   "metadata": {},
   "outputs": [],
   "source": []
  },
  {
   "cell_type": "code",
   "execution_count": null,
   "id": "c0f09f56",
   "metadata": {},
   "outputs": [],
   "source": []
  },
  {
   "cell_type": "code",
   "execution_count": null,
   "id": "a750c78d",
   "metadata": {},
   "outputs": [],
   "source": []
  },
  {
   "cell_type": "code",
   "execution_count": null,
   "id": "3820cda6",
   "metadata": {},
   "outputs": [],
   "source": []
  },
  {
   "cell_type": "code",
   "execution_count": null,
   "id": "4910f276",
   "metadata": {},
   "outputs": [],
   "source": []
  },
  {
   "cell_type": "code",
   "execution_count": null,
   "id": "9b11bf42",
   "metadata": {},
   "outputs": [],
   "source": []
  },
  {
   "cell_type": "code",
   "execution_count": null,
   "id": "df1e541e",
   "metadata": {},
   "outputs": [],
   "source": []
  },
  {
   "cell_type": "code",
   "execution_count": null,
   "id": "ef1175fa",
   "metadata": {},
   "outputs": [],
   "source": []
  },
  {
   "cell_type": "code",
   "execution_count": null,
   "id": "9e33ca58",
   "metadata": {},
   "outputs": [],
   "source": []
  },
  {
   "cell_type": "code",
   "execution_count": null,
   "id": "6a5c18a2",
   "metadata": {},
   "outputs": [],
   "source": []
  }
 ],
 "metadata": {
  "kernelspec": {
   "display_name": "Python 3 (ipykernel)",
   "language": "python",
   "name": "python3"
  },
  "language_info": {
   "codemirror_mode": {
    "name": "ipython",
    "version": 3
   },
   "file_extension": ".py",
   "mimetype": "text/x-python",
   "name": "python",
   "nbconvert_exporter": "python",
   "pygments_lexer": "ipython3",
   "version": "3.9.13"
  }
 },
 "nbformat": 4,
 "nbformat_minor": 5
}
